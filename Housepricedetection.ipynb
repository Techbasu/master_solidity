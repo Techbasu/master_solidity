{
  "nbformat": 4,
  "nbformat_minor": 0,
  "metadata": {
    "colab": {
      "provenance": [],
      "authorship_tag": "ABX9TyN7KU7kwXnY/Monh/aDTTJB",
      "include_colab_link": true
    },
    "kernelspec": {
      "name": "python3",
      "display_name": "Python 3"
    },
    "language_info": {
      "name": "python"
    }
  },
  "cells": [
    {
      "cell_type": "markdown",
      "metadata": {
        "id": "view-in-github",
        "colab_type": "text"
      },
      "source": [
        "<a href=\"https://colab.research.google.com/github/Techbasu/master_solidity/blob/master/Housepricedetection.ipynb\" target=\"_parent\"><img src=\"https://colab.research.google.com/assets/colab-badge.svg\" alt=\"Open In Colab\"/></a>"
      ]
    },
    {
      "cell_type": "code",
      "execution_count": 56,
      "metadata": {
        "id": "2TmCxuza462R"
      },
      "outputs": [],
      "source": [
        "import numpy as np\n",
        "import matplotlib.pyplot as plt\n",
        "import pandas as pd"
      ]
    },
    {
      "cell_type": "code",
      "source": [
        "df=pd.read_csv('homeprices.csv')\n",
        "X=df.iloc[:,:-1].values\n",
        "Y=df.iloc[:, -1].values"
      ],
      "metadata": {
        "id": "Xqlcx6s46EbM"
      },
      "execution_count": 57,
      "outputs": []
    },
    {
      "cell_type": "code",
      "source": [
        "print(X)"
      ],
      "metadata": {
        "colab": {
          "base_uri": "https://localhost:8080/"
        },
        "id": "nK4qDGNw6qUh",
        "outputId": "f34ae9ec-503a-4937-eac3-f8488535bb76"
      },
      "execution_count": 58,
      "outputs": [
        {
          "output_type": "stream",
          "name": "stdout",
          "text": [
            "[[2.6e+03 3.0e+00 2.0e+01]\n",
            " [3.0e+03 4.0e+00 1.5e+01]\n",
            " [3.2e+03     nan 1.8e+01]\n",
            " [3.6e+03 3.0e+00 3.0e+01]\n",
            " [4.0e+03 5.0e+00 8.0e+00]]\n"
          ]
        }
      ]
    },
    {
      "cell_type": "code",
      "source": [
        "print(Y)"
      ],
      "metadata": {
        "colab": {
          "base_uri": "https://localhost:8080/"
        },
        "id": "p4Tr-v4C6vsi",
        "outputId": "c0b2456f-7a92-4c18-d054-b1a41a5f964f"
      },
      "execution_count": 59,
      "outputs": [
        {
          "output_type": "stream",
          "name": "stdout",
          "text": [
            "[550000 565000 610000 595000 760000]\n"
          ]
        }
      ]
    },
    {
      "cell_type": "markdown",
      "source": [
        "## Working with missing data"
      ],
      "metadata": {
        "id": "fXyfS_k16zWr"
      }
    },
    {
      "cell_type": "code",
      "source": [
        "from sklearn.impute import SimpleImputer\n",
        "si= SimpleImputer(missing_values=np.nan, strategy='mean')\n",
        "X=si.fit_transform(X)"
      ],
      "metadata": {
        "id": "YGft_qkm6yvn"
      },
      "execution_count": 60,
      "outputs": []
    },
    {
      "cell_type": "code",
      "source": [
        "print(X)"
      ],
      "metadata": {
        "colab": {
          "base_uri": "https://localhost:8080/"
        },
        "id": "3merf2XJ9Mof",
        "outputId": "aa6b41c6-d3f4-4cac-f772-d766508615af"
      },
      "execution_count": 61,
      "outputs": [
        {
          "output_type": "stream",
          "name": "stdout",
          "text": [
            "[[2.60e+03 3.00e+00 2.00e+01]\n",
            " [3.00e+03 4.00e+00 1.50e+01]\n",
            " [3.20e+03 3.75e+00 1.80e+01]\n",
            " [3.60e+03 3.00e+00 3.00e+01]\n",
            " [4.00e+03 5.00e+00 8.00e+00]]\n"
          ]
        }
      ]
    },
    {
      "cell_type": "markdown",
      "source": [
        "## splitting the data into train and test data"
      ],
      "metadata": {
        "id": "fSdP5Rk19qxi"
      }
    },
    {
      "cell_type": "code",
      "source": [
        "from sklearn.model_selection import train_test_split as tts\n",
        "x_train,x_test,y_train,y_test = tts(X,Y,test_size=0.2,random_state=0)"
      ],
      "metadata": {
        "id": "IEga-B299qMk"
      },
      "execution_count": 62,
      "outputs": []
    },
    {
      "cell_type": "code",
      "source": [
        "print(x_train)"
      ],
      "metadata": {
        "colab": {
          "base_uri": "https://localhost:8080/"
        },
        "id": "nfivsxWE-DIm",
        "outputId": "3add07a5-9179-41f1-d5d5-d17ebecca6a1"
      },
      "execution_count": 63,
      "outputs": [
        {
          "output_type": "stream",
          "name": "stdout",
          "text": [
            "[[2.6e+03 3.0e+00 2.0e+01]\n",
            " [3.0e+03 4.0e+00 1.5e+01]\n",
            " [3.6e+03 3.0e+00 3.0e+01]\n",
            " [4.0e+03 5.0e+00 8.0e+00]]\n"
          ]
        }
      ]
    },
    {
      "cell_type": "code",
      "source": [
        "print(x_test)"
      ],
      "metadata": {
        "colab": {
          "base_uri": "https://localhost:8080/"
        },
        "id": "ggEmuPz8-C_Q",
        "outputId": "374a85a8-a910-4e15-ef67-f18179c20239"
      },
      "execution_count": 64,
      "outputs": [
        {
          "output_type": "stream",
          "name": "stdout",
          "text": [
            "[[3200.      3.75   18.  ]]\n"
          ]
        }
      ]
    },
    {
      "cell_type": "code",
      "source": [
        "print(y_train)"
      ],
      "metadata": {
        "colab": {
          "base_uri": "https://localhost:8080/"
        },
        "id": "3_mjeMMz-C3n",
        "outputId": "4051ce04-7471-4b6d-b4b9-c99cd847cb46"
      },
      "execution_count": 65,
      "outputs": [
        {
          "output_type": "stream",
          "name": "stdout",
          "text": [
            "[550000 565000 595000 760000]\n"
          ]
        }
      ]
    },
    {
      "cell_type": "code",
      "source": [
        "print(y_test)"
      ],
      "metadata": {
        "colab": {
          "base_uri": "https://localhost:8080/"
        },
        "id": "R9PMph3I-Csc",
        "outputId": "f7888507-c1d5-458a-82f4-c8c99ea38cf7"
      },
      "execution_count": 66,
      "outputs": [
        {
          "output_type": "stream",
          "name": "stdout",
          "text": [
            "[610000]\n"
          ]
        }
      ]
    },
    {
      "cell_type": "markdown",
      "source": [
        "## Applying Multiple linear regression on training set"
      ],
      "metadata": {
        "id": "Z_rteIH472an"
      }
    },
    {
      "cell_type": "code",
      "source": [
        "from sklearn.linear_model import LinearRegression as LR\n",
        "lr=LR().fit(x_train,y_train)"
      ],
      "metadata": {
        "id": "TUj29mAv7xsB"
      },
      "execution_count": 67,
      "outputs": []
    },
    {
      "cell_type": "markdown",
      "source": [
        "## Prediction on the test set"
      ],
      "metadata": {
        "id": "hTN7QVmT-Te2"
      }
    },
    {
      "cell_type": "code",
      "source": [
        "y_pred=lr.predict(x_test)\n",
        "np.set_printoptions(precision=2)\n",
        "print(np.concatenate((y_pred.reshape(len(y_pred),1), y_test.reshape(len(y_test),1)),1))"
      ],
      "metadata": {
        "colab": {
          "base_uri": "https://localhost:8080/"
        },
        "id": "H0hV1_T2-wlM",
        "outputId": "b208ba7f-997e-4432-8fdb-4004cd52b418"
      },
      "execution_count": 68,
      "outputs": [
        {
          "output_type": "stream",
          "name": "stdout",
          "text": [
            "[[598656.25 610000.  ]]\n"
          ]
        }
      ]
    },
    {
      "cell_type": "markdown",
      "source": [
        "## Evaluation of Model performance"
      ],
      "metadata": {
        "id": "Gd-MsTeF_GCf"
      }
    },
    {
      "cell_type": "code",
      "source": [
        "from sklearn.metrics import r2_score\n",
        "r2_score(y_test,y_pred)"
      ],
      "metadata": {
        "colab": {
          "base_uri": "https://localhost:8080/"
        },
        "id": "h94kEOKL_KAe",
        "outputId": "22dd91bb-b525-43a3-fc4d-d3c871464ce0"
      },
      "execution_count": 69,
      "outputs": [
        {
          "output_type": "stream",
          "name": "stderr",
          "text": [
            "/usr/local/lib/python3.10/dist-packages/sklearn/metrics/_regression.py:918: UndefinedMetricWarning: R^2 score is not well-defined with less than two samples.\n",
            "  warnings.warn(msg, UndefinedMetricWarning)\n"
          ]
        },
        {
          "output_type": "execute_result",
          "data": {
            "text/plain": [
              "nan"
            ]
          },
          "metadata": {},
          "execution_count": 69
        }
      ]
    },
    {
      "cell_type": "markdown",
      "source": [
        "## predicting home prices with following inputs\n",
        "## 3000 sqft 3 bedrooms age: 40\n",
        "## 2500 sqrt 4 bedrooms age: 5"
      ],
      "metadata": {
        "id": "WdiLJSYLCk72"
      }
    },
    {
      "cell_type": "code",
      "source": [
        "ans1=lr.predict([[3000,3,40]])\n",
        "ans2=lr.predict([[2500,4,5]])\n",
        "print(ans1)\n",
        "print(ans2)"
      ],
      "metadata": {
        "colab": {
          "base_uri": "https://localhost:8080/"
        },
        "id": "KgEimyldB_CG",
        "outputId": "caa6efb9-5a81-4641-a5f0-8fe94c9201cc"
      },
      "execution_count": 70,
      "outputs": [
        {
          "output_type": "stream",
          "name": "stdout",
          "text": [
            "[262000.]\n",
            "[638125.]\n"
          ]
        }
      ]
    },
    {
      "cell_type": "markdown",
      "source": [
        "## Getting the final multiple linear regression equation"
      ],
      "metadata": {
        "id": "EJy60vQtDPxs"
      }
    },
    {
      "cell_type": "code",
      "source": [
        "print(lr.coef_)\n",
        "print(lr.intercept_)"
      ],
      "metadata": {
        "colab": {
          "base_uri": "https://localhost:8080/"
        },
        "id": "jfexE9RoDVBi",
        "outputId": "5155d989-fdff-418b-aad2-33a3f00e588f"
      },
      "execution_count": 71,
      "outputs": [
        {
          "output_type": "stream",
          "name": "stdout",
          "text": [
            "[    236.25 -175125.    -19125.  ]\n",
            "843625.0000000007\n"
          ]
        }
      ]
    },
    {
      "cell_type": "markdown",
      "source": [
        "Putting in the formula:\n",
        "price= b1*Area+b2*Bedroom+b3*Age+b"
      ],
      "metadata": {
        "id": "vUEOsE0pE_iS"
      }
    },
    {
      "cell_type": "code",
      "source": [
        "price = 236.25*3000+ -175125*3 + -19125*40 + 843625.0000000007\n",
        "print(price)"
      ],
      "metadata": {
        "colab": {
          "base_uri": "https://localhost:8080/"
        },
        "id": "8-eAW0vsEqpL",
        "outputId": "0c67ca05-a15d-4def-fd0a-afd515ffd115"
      },
      "execution_count": 73,
      "outputs": [
        {
          "output_type": "stream",
          "name": "stdout",
          "text": [
            "262000.0000000007\n"
          ]
        }
      ]
    }
  ]
}