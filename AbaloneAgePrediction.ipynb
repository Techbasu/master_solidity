{
  "nbformat": 4,
  "nbformat_minor": 0,
  "metadata": {
    "colab": {
      "provenance": [],
      "authorship_tag": "ABX9TyN2V8xirj8OkASn6PpMfXYQ",
      "include_colab_link": true
    },
    "kernelspec": {
      "name": "python3",
      "display_name": "Python 3"
    },
    "language_info": {
      "name": "python"
    }
  },
  "cells": [
    {
      "cell_type": "markdown",
      "metadata": {
        "id": "view-in-github",
        "colab_type": "text"
      },
      "source": [
        "<a href=\"https://colab.research.google.com/github/Techbasu/master_solidity/blob/master/AbaloneAgePrediction.ipynb\" target=\"_parent\"><img src=\"https://colab.research.google.com/assets/colab-badge.svg\" alt=\"Open In Colab\"/></a>"
      ]
    },
    {
      "cell_type": "markdown",
      "source": [
        "## Here we would be predicting the age of the abalone fish"
      ],
      "metadata": {
        "id": "2EM1xJcp49a7"
      }
    },
    {
      "cell_type": "code",
      "source": [
        "import numpy as np\n",
        "import pandas as pd\n",
        "import matplotlib.pyplot as plt"
      ],
      "metadata": {
        "id": "J2M-Zqs1CkdV"
      },
      "execution_count": 1,
      "outputs": []
    },
    {
      "cell_type": "markdown",
      "source": [
        "## Dependant and Independant Values and convert SEX from categorical to binary"
      ],
      "metadata": {
        "id": "8ln2LA3TCw2l"
      }
    },
    {
      "cell_type": "code",
      "source": [
        "df= pd.read_csv('Abalone.csv')\n",
        "binary={'SEX':{'M':1,'F':0,'I':2}}\n",
        "df=df.replace(binary)\n",
        "df"
      ],
      "metadata": {
        "colab": {
          "base_uri": "https://localhost:8080/",
          "height": 487
        },
        "id": "wiMja7QeC1Qe",
        "outputId": "edfc12dd-4efb-408c-ab6c-36a183a3f0f0"
      },
      "execution_count": 2,
      "outputs": [
        {
          "output_type": "execute_result",
          "data": {
            "text/plain": [
              "      SEX  Measure  Diameter  Height  Weight  Meat_Weight  Gut_Weight  \\\n",
              "0       1    0.455     0.365   0.095  0.5140       0.2245      0.1010   \n",
              "1       1    0.350     0.265   0.090  0.2255       0.0995      0.0485   \n",
              "2       0    0.530     0.420   0.135  0.6770       0.2565      0.1415   \n",
              "3       1    0.440     0.365   0.125  0.5160       0.2155      0.1140   \n",
              "4       2    0.330     0.255   0.080  0.2050       0.0895      0.0395   \n",
              "...   ...      ...       ...     ...     ...          ...         ...   \n",
              "4172    0    0.565     0.450   0.165  0.8870       0.3700      0.2390   \n",
              "4173    1    0.590     0.440   0.135  0.9660       0.4390      0.2145   \n",
              "4174    1    0.600     0.475   0.205  1.1760       0.5255      0.2875   \n",
              "4175    0    0.625     0.485   0.150  1.0945       0.5310      0.2610   \n",
              "4176    1    0.710     0.555   0.195  1.9485       0.9455      0.3765   \n",
              "\n",
              "      Shell_Weight  Rings  \n",
              "0           0.1500     15  \n",
              "1           0.0700      7  \n",
              "2           0.2100      9  \n",
              "3           0.1550     10  \n",
              "4           0.0550      7  \n",
              "...            ...    ...  \n",
              "4172        0.2490     11  \n",
              "4173        0.2605     10  \n",
              "4174        0.3080      9  \n",
              "4175        0.2960     10  \n",
              "4176        0.4950     12  \n",
              "\n",
              "[4177 rows x 9 columns]"
            ],
            "text/html": [
              "\n",
              "  <div id=\"df-aba83a82-93c2-4454-9911-be2bfc18b795\">\n",
              "    <div class=\"colab-df-container\">\n",
              "      <div>\n",
              "<style scoped>\n",
              "    .dataframe tbody tr th:only-of-type {\n",
              "        vertical-align: middle;\n",
              "    }\n",
              "\n",
              "    .dataframe tbody tr th {\n",
              "        vertical-align: top;\n",
              "    }\n",
              "\n",
              "    .dataframe thead th {\n",
              "        text-align: right;\n",
              "    }\n",
              "</style>\n",
              "<table border=\"1\" class=\"dataframe\">\n",
              "  <thead>\n",
              "    <tr style=\"text-align: right;\">\n",
              "      <th></th>\n",
              "      <th>SEX</th>\n",
              "      <th>Measure</th>\n",
              "      <th>Diameter</th>\n",
              "      <th>Height</th>\n",
              "      <th>Weight</th>\n",
              "      <th>Meat_Weight</th>\n",
              "      <th>Gut_Weight</th>\n",
              "      <th>Shell_Weight</th>\n",
              "      <th>Rings</th>\n",
              "    </tr>\n",
              "  </thead>\n",
              "  <tbody>\n",
              "    <tr>\n",
              "      <th>0</th>\n",
              "      <td>1</td>\n",
              "      <td>0.455</td>\n",
              "      <td>0.365</td>\n",
              "      <td>0.095</td>\n",
              "      <td>0.5140</td>\n",
              "      <td>0.2245</td>\n",
              "      <td>0.1010</td>\n",
              "      <td>0.1500</td>\n",
              "      <td>15</td>\n",
              "    </tr>\n",
              "    <tr>\n",
              "      <th>1</th>\n",
              "      <td>1</td>\n",
              "      <td>0.350</td>\n",
              "      <td>0.265</td>\n",
              "      <td>0.090</td>\n",
              "      <td>0.2255</td>\n",
              "      <td>0.0995</td>\n",
              "      <td>0.0485</td>\n",
              "      <td>0.0700</td>\n",
              "      <td>7</td>\n",
              "    </tr>\n",
              "    <tr>\n",
              "      <th>2</th>\n",
              "      <td>0</td>\n",
              "      <td>0.530</td>\n",
              "      <td>0.420</td>\n",
              "      <td>0.135</td>\n",
              "      <td>0.6770</td>\n",
              "      <td>0.2565</td>\n",
              "      <td>0.1415</td>\n",
              "      <td>0.2100</td>\n",
              "      <td>9</td>\n",
              "    </tr>\n",
              "    <tr>\n",
              "      <th>3</th>\n",
              "      <td>1</td>\n",
              "      <td>0.440</td>\n",
              "      <td>0.365</td>\n",
              "      <td>0.125</td>\n",
              "      <td>0.5160</td>\n",
              "      <td>0.2155</td>\n",
              "      <td>0.1140</td>\n",
              "      <td>0.1550</td>\n",
              "      <td>10</td>\n",
              "    </tr>\n",
              "    <tr>\n",
              "      <th>4</th>\n",
              "      <td>2</td>\n",
              "      <td>0.330</td>\n",
              "      <td>0.255</td>\n",
              "      <td>0.080</td>\n",
              "      <td>0.2050</td>\n",
              "      <td>0.0895</td>\n",
              "      <td>0.0395</td>\n",
              "      <td>0.0550</td>\n",
              "      <td>7</td>\n",
              "    </tr>\n",
              "    <tr>\n",
              "      <th>...</th>\n",
              "      <td>...</td>\n",
              "      <td>...</td>\n",
              "      <td>...</td>\n",
              "      <td>...</td>\n",
              "      <td>...</td>\n",
              "      <td>...</td>\n",
              "      <td>...</td>\n",
              "      <td>...</td>\n",
              "      <td>...</td>\n",
              "    </tr>\n",
              "    <tr>\n",
              "      <th>4172</th>\n",
              "      <td>0</td>\n",
              "      <td>0.565</td>\n",
              "      <td>0.450</td>\n",
              "      <td>0.165</td>\n",
              "      <td>0.8870</td>\n",
              "      <td>0.3700</td>\n",
              "      <td>0.2390</td>\n",
              "      <td>0.2490</td>\n",
              "      <td>11</td>\n",
              "    </tr>\n",
              "    <tr>\n",
              "      <th>4173</th>\n",
              "      <td>1</td>\n",
              "      <td>0.590</td>\n",
              "      <td>0.440</td>\n",
              "      <td>0.135</td>\n",
              "      <td>0.9660</td>\n",
              "      <td>0.4390</td>\n",
              "      <td>0.2145</td>\n",
              "      <td>0.2605</td>\n",
              "      <td>10</td>\n",
              "    </tr>\n",
              "    <tr>\n",
              "      <th>4174</th>\n",
              "      <td>1</td>\n",
              "      <td>0.600</td>\n",
              "      <td>0.475</td>\n",
              "      <td>0.205</td>\n",
              "      <td>1.1760</td>\n",
              "      <td>0.5255</td>\n",
              "      <td>0.2875</td>\n",
              "      <td>0.3080</td>\n",
              "      <td>9</td>\n",
              "    </tr>\n",
              "    <tr>\n",
              "      <th>4175</th>\n",
              "      <td>0</td>\n",
              "      <td>0.625</td>\n",
              "      <td>0.485</td>\n",
              "      <td>0.150</td>\n",
              "      <td>1.0945</td>\n",
              "      <td>0.5310</td>\n",
              "      <td>0.2610</td>\n",
              "      <td>0.2960</td>\n",
              "      <td>10</td>\n",
              "    </tr>\n",
              "    <tr>\n",
              "      <th>4176</th>\n",
              "      <td>1</td>\n",
              "      <td>0.710</td>\n",
              "      <td>0.555</td>\n",
              "      <td>0.195</td>\n",
              "      <td>1.9485</td>\n",
              "      <td>0.9455</td>\n",
              "      <td>0.3765</td>\n",
              "      <td>0.4950</td>\n",
              "      <td>12</td>\n",
              "    </tr>\n",
              "  </tbody>\n",
              "</table>\n",
              "<p>4177 rows × 9 columns</p>\n",
              "</div>\n",
              "      <button class=\"colab-df-convert\" onclick=\"convertToInteractive('df-aba83a82-93c2-4454-9911-be2bfc18b795')\"\n",
              "              title=\"Convert this dataframe to an interactive table.\"\n",
              "              style=\"display:none;\">\n",
              "        \n",
              "  <svg xmlns=\"http://www.w3.org/2000/svg\" height=\"24px\"viewBox=\"0 0 24 24\"\n",
              "       width=\"24px\">\n",
              "    <path d=\"M0 0h24v24H0V0z\" fill=\"none\"/>\n",
              "    <path d=\"M18.56 5.44l.94 2.06.94-2.06 2.06-.94-2.06-.94-.94-2.06-.94 2.06-2.06.94zm-11 1L8.5 8.5l.94-2.06 2.06-.94-2.06-.94L8.5 2.5l-.94 2.06-2.06.94zm10 10l.94 2.06.94-2.06 2.06-.94-2.06-.94-.94-2.06-.94 2.06-2.06.94z\"/><path d=\"M17.41 7.96l-1.37-1.37c-.4-.4-.92-.59-1.43-.59-.52 0-1.04.2-1.43.59L10.3 9.45l-7.72 7.72c-.78.78-.78 2.05 0 2.83L4 21.41c.39.39.9.59 1.41.59.51 0 1.02-.2 1.41-.59l7.78-7.78 2.81-2.81c.8-.78.8-2.07 0-2.86zM5.41 20L4 18.59l7.72-7.72 1.47 1.35L5.41 20z\"/>\n",
              "  </svg>\n",
              "      </button>\n",
              "      \n",
              "  <style>\n",
              "    .colab-df-container {\n",
              "      display:flex;\n",
              "      flex-wrap:wrap;\n",
              "      gap: 12px;\n",
              "    }\n",
              "\n",
              "    .colab-df-convert {\n",
              "      background-color: #E8F0FE;\n",
              "      border: none;\n",
              "      border-radius: 50%;\n",
              "      cursor: pointer;\n",
              "      display: none;\n",
              "      fill: #1967D2;\n",
              "      height: 32px;\n",
              "      padding: 0 0 0 0;\n",
              "      width: 32px;\n",
              "    }\n",
              "\n",
              "    .colab-df-convert:hover {\n",
              "      background-color: #E2EBFA;\n",
              "      box-shadow: 0px 1px 2px rgba(60, 64, 67, 0.3), 0px 1px 3px 1px rgba(60, 64, 67, 0.15);\n",
              "      fill: #174EA6;\n",
              "    }\n",
              "\n",
              "    [theme=dark] .colab-df-convert {\n",
              "      background-color: #3B4455;\n",
              "      fill: #D2E3FC;\n",
              "    }\n",
              "\n",
              "    [theme=dark] .colab-df-convert:hover {\n",
              "      background-color: #434B5C;\n",
              "      box-shadow: 0px 1px 3px 1px rgba(0, 0, 0, 0.15);\n",
              "      filter: drop-shadow(0px 1px 2px rgba(0, 0, 0, 0.3));\n",
              "      fill: #FFFFFF;\n",
              "    }\n",
              "  </style>\n",
              "\n",
              "      <script>\n",
              "        const buttonEl =\n",
              "          document.querySelector('#df-aba83a82-93c2-4454-9911-be2bfc18b795 button.colab-df-convert');\n",
              "        buttonEl.style.display =\n",
              "          google.colab.kernel.accessAllowed ? 'block' : 'none';\n",
              "\n",
              "        async function convertToInteractive(key) {\n",
              "          const element = document.querySelector('#df-aba83a82-93c2-4454-9911-be2bfc18b795');\n",
              "          const dataTable =\n",
              "            await google.colab.kernel.invokeFunction('convertToInteractive',\n",
              "                                                     [key], {});\n",
              "          if (!dataTable) return;\n",
              "\n",
              "          const docLinkHtml = 'Like what you see? Visit the ' +\n",
              "            '<a target=\"_blank\" href=https://colab.research.google.com/notebooks/data_table.ipynb>data table notebook</a>'\n",
              "            + ' to learn more about interactive tables.';\n",
              "          element.innerHTML = '';\n",
              "          dataTable['output_type'] = 'display_data';\n",
              "          await google.colab.output.renderOutput(dataTable, element);\n",
              "          const docLink = document.createElement('div');\n",
              "          docLink.innerHTML = docLinkHtml;\n",
              "          element.appendChild(docLink);\n",
              "        }\n",
              "      </script>\n",
              "    </div>\n",
              "  </div>\n",
              "  "
            ]
          },
          "metadata": {},
          "execution_count": 2
        }
      ]
    },
    {
      "cell_type": "code",
      "source": [
        "X=df.iloc[:,1:].values\n",
        "Y=df.iloc[:, 0].values"
      ],
      "metadata": {
        "id": "K2dyqC7KEWZi"
      },
      "execution_count": 3,
      "outputs": []
    },
    {
      "cell_type": "code",
      "source": [
        "print(X)"
      ],
      "metadata": {
        "colab": {
          "base_uri": "https://localhost:8080/"
        },
        "id": "LKTE-Gx6DnBs",
        "outputId": "3f6a0ec5-a3b3-4f18-bbbf-cd128718b1d0"
      },
      "execution_count": 4,
      "outputs": [
        {
          "output_type": "stream",
          "name": "stdout",
          "text": [
            "[[ 0.455   0.365   0.095  ...  0.101   0.15   15.    ]\n",
            " [ 0.35    0.265   0.09   ...  0.0485  0.07    7.    ]\n",
            " [ 0.53    0.42    0.135  ...  0.1415  0.21    9.    ]\n",
            " ...\n",
            " [ 0.6     0.475   0.205  ...  0.2875  0.308   9.    ]\n",
            " [ 0.625   0.485   0.15   ...  0.261   0.296  10.    ]\n",
            " [ 0.71    0.555   0.195  ...  0.3765  0.495  12.    ]]\n"
          ]
        }
      ]
    },
    {
      "cell_type": "code",
      "source": [
        "print(Y)"
      ],
      "metadata": {
        "colab": {
          "base_uri": "https://localhost:8080/"
        },
        "id": "6UZh_385EXbN",
        "outputId": "e56b1898-9cf9-4e31-a0c6-f04ce5163eed"
      },
      "execution_count": 5,
      "outputs": [
        {
          "output_type": "stream",
          "name": "stdout",
          "text": [
            "[1 1 0 ... 1 0 1]\n"
          ]
        }
      ]
    },
    {
      "cell_type": "markdown",
      "source": [
        "## Splitting the datasets into train and test sets"
      ],
      "metadata": {
        "id": "l4w240XJE4do"
      }
    },
    {
      "cell_type": "code",
      "source": [
        "from sklearn.model_selection import train_test_split as tts\n",
        "x_train,x_test,y_train,y_test= tts(X,Y,test_size=0.20,random_state=0)"
      ],
      "metadata": {
        "id": "m_3esPwoE149"
      },
      "execution_count": 6,
      "outputs": []
    },
    {
      "cell_type": "code",
      "source": [
        "print(x_train)"
      ],
      "metadata": {
        "colab": {
          "base_uri": "https://localhost:8080/"
        },
        "id": "Dd-Sv3EvFLw8",
        "outputId": "bd39779c-8234-4a44-c6f7-7ea883d6e133"
      },
      "execution_count": 7,
      "outputs": [
        {
          "output_type": "stream",
          "name": "stdout",
          "text": [
            "[[1.800e-01 1.350e-01 8.000e-02 ... 7.000e-03 1.000e-02 5.000e+00]\n",
            " [2.150e-01 1.500e-01 5.500e-02 ... 9.000e-03 1.250e-02 3.000e+00]\n",
            " [6.600e-01 5.300e-01 1.700e-01 ... 2.120e-01 4.530e-01 1.500e+01]\n",
            " ...\n",
            " [5.950e-01 4.500e-01 1.450e-01 ... 2.065e-01 2.535e-01 1.000e+01]\n",
            " [6.250e-01 4.900e-01 1.650e-01 ... 2.365e-01 3.185e-01 9.000e+00]\n",
            " [4.100e-01 3.250e-01 1.100e-01 ... 7.500e-02 1.010e-01 8.000e+00]]\n"
          ]
        }
      ]
    },
    {
      "cell_type": "code",
      "source": [
        "print(x_test)"
      ],
      "metadata": {
        "colab": {
          "base_uri": "https://localhost:8080/"
        },
        "id": "TTfudGuRFNne",
        "outputId": "1d3b2889-1506-4c91-d6b3-6aec00a0b0fe"
      },
      "execution_count": 8,
      "outputs": [
        {
          "output_type": "stream",
          "name": "stdout",
          "text": [
            "[[5.500e-01 4.250e-01 1.550e-01 ... 2.430e-01 3.350e-01 1.300e+01]\n",
            " [5.000e-01 4.000e-01 1.200e-01 ... 1.430e-01 1.935e-01 8.000e+00]\n",
            " [6.200e-01 4.800e-01 1.550e-01 ... 3.740e-01 3.175e-01 1.100e+01]\n",
            " ...\n",
            " [4.450e-01 3.450e-01 1.050e-01 ... 1.015e-01 1.170e-01 7.000e+00]\n",
            " [5.400e-01 4.350e-01 1.800e-01 ... 2.260e-01 3.250e-01 1.700e+01]\n",
            " [2.500e-01 1.750e-01 6.000e-02 ... 8.000e-03 2.000e-02 4.000e+00]]\n"
          ]
        }
      ]
    },
    {
      "cell_type": "code",
      "source": [
        "print(y_train)"
      ],
      "metadata": {
        "colab": {
          "base_uri": "https://localhost:8080/"
        },
        "id": "STjmmiIFFNkK",
        "outputId": "d85830cd-b285-4f04-8449-75be0994ad04"
      },
      "execution_count": 9,
      "outputs": [
        {
          "output_type": "stream",
          "name": "stdout",
          "text": [
            "[2 2 1 ... 1 0 2]\n"
          ]
        }
      ]
    },
    {
      "cell_type": "code",
      "source": [
        "print(y_test)"
      ],
      "metadata": {
        "colab": {
          "base_uri": "https://localhost:8080/"
        },
        "id": "6Tfzrt_DFQ42",
        "outputId": "0ad3c4ff-611c-4c09-8614-cb88b510b372"
      },
      "execution_count": 10,
      "outputs": [
        {
          "output_type": "stream",
          "name": "stdout",
          "text": [
            "[1 2 1 2 1 0 1 1 2 1 2 2 0 1 2 0 1 1 0 2 2 2 2 0 2 1 1 1 2 1 1 2 0 0 2 1 2\n",
            " 1 2 0 1 0 1 1 0 1 1 0 2 2 0 2 0 0 1 1 1 1 2 2 1 1 1 2 2 1 1 1 2 0 2 1 0 0\n",
            " 0 2 1 0 1 1 0 2 2 0 2 2 1 1 2 2 2 0 1 2 1 2 2 1 1 0 0 2 0 1 2 0 2 2 2 1 1\n",
            " 1 0 0 1 1 1 0 2 2 2 0 2 2 1 0 0 0 2 0 0 0 1 1 0 1 1 2 2 1 0 1 2 1 0 1 2 2\n",
            " 2 2 2 1 2 0 1 2 2 2 1 1 1 1 2 0 2 2 2 2 1 2 2 1 0 1 1 1 2 2 1 1 2 0 1 2 2\n",
            " 1 1 2 2 1 0 0 2 1 1 0 2 1 2 0 0 1 1 1 0 0 1 0 2 0 2 2 0 1 1 2 2 1 2 1 1 1\n",
            " 2 0 1 1 1 1 1 2 1 1 2 0 1 1 2 2 2 1 0 0 0 0 2 2 0 2 1 1 1 1 1 1 2 0 2 2 2\n",
            " 0 0 1 0 1 2 2 0 2 2 1 0 1 1 1 2 0 0 1 0 0 2 0 2 1 0 1 2 0 1 0 2 2 2 2 2 1\n",
            " 2 2 2 0 0 1 0 2 0 2 1 0 0 0 0 1 2 2 0 0 2 2 2 1 0 1 1 1 0 0 2 2 0 1 2 1 2\n",
            " 2 2 1 1 1 1 1 2 1 0 0 1 2 2 1 1 2 2 2 1 1 1 1 0 0 2 0 1 1 2 1 2 0 2 1 1 1\n",
            " 0 2 0 2 0 1 0 2 0 2 1 1 1 0 1 1 0 1 2 2 1 0 1 1 0 2 1 2 1 1 2 0 2 0 0 1 1\n",
            " 0 1 0 1 2 1 2 0 2 2 1 0 0 0 2 0 1 2 2 1 0 0 0 2 1 0 1 2 0 0 0 1 0 2 2 0 2\n",
            " 2 2 0 2 1 0 1 2 1 2 2 1 1 1 0 0 2 1 1 0 1 1 1 0 1 1 1 1 2 1 2 1 2 2 1 1 0\n",
            " 0 1 1 0 1 0 0 2 0 2 0 1 1 2 2 1 2 2 1 0 1 2 1 1 1 0 1 2 2 0 0 0 0 1 2 0 1\n",
            " 1 1 2 1 0 0 2 2 0 0 2 2 1 2 0 0 2 1 1 0 0 1 2 0 1 0 0 0 2 0 1 1 0 1 2 2 1\n",
            " 2 1 0 0 0 0 0 0 0 1 1 0 2 1 2 0 0 2 1 2 2 0 0 1 2 0 2 2 2 1 0 0 0 2 1 2 2\n",
            " 0 2 2 1 2 2 2 0 2 1 0 1 1 1 1 1 2 1 2 1 0 2 0 1 2 2 1 0 0 0 2 1 1 0 2 2 1\n",
            " 1 1 2 0 2 1 2 2 0 0 1 1 1 1 0 0 1 2 2 2 2 0 2 0 1 2 0 2 2 0 0 1 2 0 0 0 2\n",
            " 2 2 2 1 1 1 0 0 2 2 1 2 1 1 0 1 1 0 0 2 0 0 2 0 1 1 0 0 2 0 0 1 1 0 2 1 1\n",
            " 0 1 1 1 2 1 2 2 2 2 1 2 1 0 2 2 2 1 2 1 2 1 2 1 1 1 0 0 1 0 0 2 1 0 0 0 2\n",
            " 0 0 2 2 0 2 1 1 2 0 2 2 1 0 0 0 1 2 1 0 2 2 2 2 0 2 0 1 0 0 2 0 1 2 0 2 2\n",
            " 0 2 1 0 0 2 1 2 1 0 2 0 1 1 1 1 2 0 1 2 0 2 0 0 2 0 2 2 0 1 0 2 1 2 1 1 0\n",
            " 0 0 1 1 1 2 2 2 1 2 2 0 0 0 2 2 2 0 1 2 1 2]\n"
          ]
        }
      ]
    },
    {
      "cell_type": "markdown",
      "source": [
        "## Using Feature Scaling for putting all the values in the same scale in training and testing sets"
      ],
      "metadata": {
        "id": "HjIaTB0OEi5K"
      }
    },
    {
      "cell_type": "code",
      "source": [
        "from sklearn.preprocessing import StandardScaler as SSC\n",
        "sc= SSC()\n",
        "x_train= sc.fit_transform(x_train)\n",
        "x_test=sc.transform(x_test)"
      ],
      "metadata": {
        "id": "lmXYLZ9SEp9j"
      },
      "execution_count": 11,
      "outputs": []
    },
    {
      "cell_type": "code",
      "source": [
        "print(x_train)"
      ],
      "metadata": {
        "colab": {
          "base_uri": "https://localhost:8080/"
        },
        "id": "gbZLKVL9Fmrk",
        "outputId": "2c422c92-ecc0-4ed3-e147-7b2e07b7db2c"
      },
      "execution_count": 12,
      "outputs": [
        {
          "output_type": "stream",
          "name": "stdout",
          "text": [
            "[[-2.88863777 -2.77572159 -1.41092732 ... -1.58940432 -1.65503169\n",
            "  -1.54702766]\n",
            " [-2.59633945 -2.62402222 -1.99755535 ... -1.57129213 -1.6371499\n",
            "  -2.17103097]\n",
            " [ 1.12002486  1.21902846  0.70093358 ...  0.26709517  1.51362157\n",
            "   1.57298889]\n",
            " ...\n",
            " [ 0.57718513  0.40996516  0.11430555 ...  0.21728665  0.0866547\n",
            "   0.01298061]\n",
            " [ 0.82772654  0.81449681  0.58360797 ...  0.4889695   0.55158125\n",
            "  -0.29902104]\n",
            " [-0.96782026 -0.85419625 -0.70697369 ... -0.97358986 -1.00413452\n",
            "  -0.6110227 ]]\n"
          ]
        }
      ]
    },
    {
      "cell_type": "code",
      "source": [
        "print(x_test)"
      ],
      "metadata": {
        "colab": {
          "base_uri": "https://localhost:8080/"
        },
        "id": "a5j-wQjYFlRt",
        "outputId": "e953265c-a52f-4e2f-ba75-bf93b79edb36"
      },
      "execution_count": 13,
      "outputs": [
        {
          "output_type": "stream",
          "name": "stdout",
          "text": [
            "[[ 0.20137301  0.15713288  0.34895676 ...  0.54783412  0.66960106\n",
            "   0.94898558]\n",
            " [-0.21619602 -0.0956994  -0.47232248 ... -0.35777539 -0.34250827\n",
            "  -0.6110227 ]\n",
            " [ 0.78596964  0.7133639   0.34895676 ...  1.73418258  0.54442853\n",
            "   0.32498227]\n",
            " ...\n",
            " [-0.67552194 -0.65193042 -0.82429929 ... -0.73360334 -0.88969106\n",
            "  -0.92302435]\n",
            " [ 0.1178592   0.25826579  0.93558479 ...  0.3938805   0.5980739\n",
            "   2.1969922 ]\n",
            " [-2.30404114 -2.37118994 -1.88022974 ... -1.58034823 -1.58350453\n",
            "  -1.85902932]]\n"
          ]
        }
      ]
    },
    {
      "cell_type": "markdown",
      "source": [
        "## Here we will be using Decision Tree Regression for better prediction results"
      ],
      "metadata": {
        "id": "INZv_teYGQU_"
      }
    },
    {
      "cell_type": "code",
      "source": [
        "from sklearn.tree import DecisionTreeRegressor as DTR\n",
        "clf= DTR(random_state=42).fit(x_train,y_train)"
      ],
      "metadata": {
        "id": "jejtXic2GV0h"
      },
      "execution_count": 14,
      "outputs": []
    },
    {
      "cell_type": "markdown",
      "source": [
        "## Predicting age on the actual dataset"
      ],
      "metadata": {
        "id": "Hsp0zMQkJnw-"
      }
    },
    {
      "cell_type": "code",
      "source": [
        "predvalue= clf.predict(sc.transform([[0.356,0.23,0.080,0.620,0.1144,0.0200,0.45,5]]))\n",
        "print(\"age is: \",predvalue)"
      ],
      "metadata": {
        "colab": {
          "base_uri": "https://localhost:8080/"
        },
        "id": "5ywBTmyfJ3Mn",
        "outputId": "4acc6f4d-d357-42f2-b8e6-9c5def1fc90b"
      },
      "execution_count": 15,
      "outputs": [
        {
          "output_type": "stream",
          "name": "stdout",
          "text": [
            "age is:  [1.]\n"
          ]
        }
      ]
    },
    {
      "cell_type": "markdown",
      "source": [
        "## predicting on the test set"
      ],
      "metadata": {
        "id": "36UDqpIUi26r"
      }
    },
    {
      "cell_type": "code",
      "source": [
        "y_pred= clf.predict(x_test)"
      ],
      "metadata": {
        "id": "saLsUx2Oi5Ub"
      },
      "execution_count": 16,
      "outputs": []
    },
    {
      "cell_type": "code",
      "source": [
        "y_pred"
      ],
      "metadata": {
        "colab": {
          "base_uri": "https://localhost:8080/"
        },
        "id": "nkfbAl0gqITn",
        "outputId": "c9f44daa-d527-4669-815d-dd7e825de359"
      },
      "execution_count": 19,
      "outputs": [
        {
          "output_type": "execute_result",
          "data": {
            "text/plain": [
              "array([0., 0., 1., 2., 1., 0., 1., 1., 0., 0., 1., 2., 0., 0., 2., 2., 2.,\n",
              "       0., 1., 2., 2., 2., 0., 1., 2., 1., 2., 1., 2., 0., 2., 2., 1., 1.,\n",
              "       2., 2., 2., 0., 2., 1., 0., 0., 1., 1., 0., 1., 0., 1., 1., 0., 1.,\n",
              "       2., 2., 0., 0., 2., 2., 1., 2., 2., 1., 0., 0., 2., 2., 1., 0., 1.,\n",
              "       2., 1., 2., 1., 1., 0., 1., 0., 2., 2., 0., 2., 0., 2., 0., 0., 1.,\n",
              "       2., 0., 1., 1., 2., 1., 1., 2., 2., 2., 2., 2., 2., 1., 0., 1., 2.,\n",
              "       1., 0., 2., 1., 2., 2., 2., 0., 1., 1., 0., 1., 0., 0., 0., 0., 2.,\n",
              "       0., 2., 0., 2., 2., 1., 2., 1., 0., 1., 1., 1., 2., 1., 1., 0., 1.,\n",
              "       2., 2., 2., 0., 1., 0., 2., 1., 0., 2., 1., 2., 1., 2., 1., 1., 2.,\n",
              "       0., 1., 2., 0., 1., 1., 2., 1., 2., 1., 0., 2., 1., 2., 2., 2., 2.,\n",
              "       2., 2., 2., 2., 1., 1., 2., 2., 1., 1., 2., 0., 1., 2., 1., 0., 1.,\n",
              "       2., 2., 0., 0., 2., 2., 0., 1., 2., 0., 2., 1., 0., 0., 1., 1., 0.,\n",
              "       1., 0., 2., 0., 0., 1., 2., 2., 2., 0., 0., 2., 2., 0., 2., 1., 1.,\n",
              "       1., 1., 1., 0., 0., 1., 2., 0., 1., 1., 2., 2., 0., 2., 1., 2., 2.,\n",
              "       2., 1., 1., 0., 0., 0., 1., 1., 0., 2., 1., 1., 0., 0., 0., 1., 1.,\n",
              "       0., 2., 2., 0., 0., 1., 2., 1., 2., 0., 2., 2., 1., 2., 2., 1., 1.,\n",
              "       1., 1., 2., 1., 1., 2., 1., 1., 1., 0., 2., 1., 1., 0., 0., 2., 1.,\n",
              "       0., 0., 2., 2., 2., 2., 0., 1., 1., 2., 0., 1., 1., 0., 0., 0., 0.,\n",
              "       2., 1., 1., 0., 0., 0., 2., 2., 0., 0., 1., 2., 1., 1., 1., 1., 0.,\n",
              "       1., 1., 2., 0., 0., 0., 1., 2., 0., 2., 0., 1., 0., 0., 1., 1., 0.,\n",
              "       2., 0., 1., 1., 0., 2., 2., 1., 1., 2., 1., 2., 1., 1., 1., 2., 1.,\n",
              "       1., 2., 0., 0., 2., 2., 1., 1., 2., 2., 1., 1., 1., 0., 2., 0., 2.,\n",
              "       1., 0., 0., 2., 1., 1., 1., 0., 0., 0., 2., 0., 0., 0., 2., 0., 0.,\n",
              "       2., 0., 1., 1., 2., 1., 2., 1., 0., 2., 0., 2., 1., 2., 1., 1., 1.,\n",
              "       1., 1., 0., 2., 0., 2., 1., 2., 0., 0., 0., 0., 1., 2., 0., 0., 2.,\n",
              "       0., 1., 1., 1., 0., 2., 1., 1., 1., 0., 1., 1., 1., 0., 1., 2., 2.,\n",
              "       0., 2., 2., 2., 0., 2., 1., 1., 1., 2., 1., 2., 2., 2., 0., 2., 2.,\n",
              "       0., 1., 0., 1., 1., 0., 0., 1., 1., 2., 2., 1., 0., 2., 0., 2., 1.,\n",
              "       2., 2., 0., 1., 0., 1., 2., 1., 1., 0., 1., 0., 1., 1., 1., 1., 0.,\n",
              "       1., 2., 2., 2., 2., 0., 2., 0., 0., 2., 1., 1., 1., 2., 0., 1., 1.,\n",
              "       0., 0., 1., 1., 0., 2., 0., 1., 1., 1., 2., 2., 1., 1., 2., 2., 0.,\n",
              "       0., 2., 0., 2., 0., 1., 0., 2., 0., 1., 1., 1., 1., 1., 1., 1., 0.,\n",
              "       2., 0., 1., 1., 1., 1., 1., 0., 0., 0., 1., 2., 2., 2., 0., 0., 0.,\n",
              "       0., 0., 1., 1., 2., 1., 0., 1., 2., 2., 0., 1., 0., 2., 2., 0., 1.,\n",
              "       1., 2., 0., 1., 2., 2., 1., 1., 1., 1., 2., 1., 2., 0., 1., 2., 1.,\n",
              "       1., 2., 1., 2., 1., 1., 0., 0., 1., 1., 2., 2., 1., 0., 0., 2., 1.,\n",
              "       1., 2., 1., 0., 1., 2., 0., 1., 2., 1., 2., 1., 0., 0., 0., 0., 0.,\n",
              "       2., 2., 1., 0., 2., 1., 1., 2., 1., 1., 2., 1., 0., 1., 1., 1., 0.,\n",
              "       2., 2., 1., 1., 2., 1., 0., 0., 2., 0., 0., 1., 0., 2., 1., 1., 0.,\n",
              "       1., 1., 2., 2., 2., 2., 0., 1., 0., 0., 0., 1., 2., 2., 2., 0., 1.,\n",
              "       0., 2., 1., 1., 1., 2., 0., 0., 2., 1., 0., 0., 0., 1., 1., 0., 1.,\n",
              "       2., 1., 1., 1., 1., 2., 1., 2., 0., 2., 2., 0., 0., 1., 2., 2., 0.,\n",
              "       2., 2., 1., 2., 2., 1., 0., 2., 2., 2., 1., 1., 1., 0., 0., 2., 0.,\n",
              "       0., 1., 0., 1., 0., 1., 0., 0., 2., 1., 2., 1., 2., 1., 2., 1., 2.,\n",
              "       2., 0., 2., 2., 2., 0., 2., 0., 1., 2., 0., 0., 2., 2., 1., 1., 0.,\n",
              "       1., 0., 0., 0., 2., 1., 2., 0., 0., 1., 0., 2., 1., 2., 1., 1., 1.,\n",
              "       1., 0., 0., 1., 0., 2., 1., 1., 1., 1., 0., 1., 1., 2., 1., 1., 2.,\n",
              "       0., 1., 0., 0., 2., 2., 2., 1., 0., 2., 0., 2., 1., 0., 1., 1., 0.,\n",
              "       2., 0., 1., 0., 2., 2., 1., 2., 2., 0., 0., 1., 2., 2., 0., 1., 0.,\n",
              "       2., 0., 1.])"
            ]
          },
          "metadata": {},
          "execution_count": 19
        }
      ]
    },
    {
      "cell_type": "markdown",
      "source": [
        "## Comparing the real value with predicted value"
      ],
      "metadata": {
        "id": "4WTYlWY3jN2R"
      }
    },
    {
      "cell_type": "code",
      "source": [
        "data= pd.DataFrame({\"Real Values\" : y_test, \"Predicted Values\" : y_pred})\n",
        "print(data)"
      ],
      "metadata": {
        "colab": {
          "base_uri": "https://localhost:8080/"
        },
        "id": "YaNjQlbqjSrU",
        "outputId": "841c32ba-2756-4b59-959d-078dc500ee03"
      },
      "execution_count": 17,
      "outputs": [
        {
          "output_type": "stream",
          "name": "stdout",
          "text": [
            "     Real Values  Predicted Values\n",
            "0              1               0.0\n",
            "1              2               0.0\n",
            "2              1               1.0\n",
            "3              2               2.0\n",
            "4              1               1.0\n",
            "..           ...               ...\n",
            "831            0               1.0\n",
            "832            1               0.0\n",
            "833            2               2.0\n",
            "834            1               0.0\n",
            "835            2               1.0\n",
            "\n",
            "[836 rows x 2 columns]\n"
          ]
        }
      ]
    },
    {
      "cell_type": "markdown",
      "source": [
        "## Evaluating the model"
      ],
      "metadata": {
        "id": "8yFZZ4lej3jy"
      }
    },
    {
      "cell_type": "code",
      "source": [
        "from sklearn.metrics import r2_score\n",
        "r2_score(y_test,y_pred)"
      ],
      "metadata": {
        "colab": {
          "base_uri": "https://localhost:8080/"
        },
        "id": "8XlrB8fuj57k",
        "outputId": "49846957-18e9-4634-b90d-77d28070c857"
      },
      "execution_count": 18,
      "outputs": [
        {
          "output_type": "execute_result",
          "data": {
            "text/plain": [
              "-0.16008859712326218"
            ]
          },
          "metadata": {},
          "execution_count": 18
        }
      ]
    }
  ]
}