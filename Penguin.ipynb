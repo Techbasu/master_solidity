{
  "nbformat": 4,
  "nbformat_minor": 0,
  "metadata": {
    "colab": {
      "provenance": [],
      "authorship_tag": "ABX9TyOPJVh+ccdxIUu5T/Jw77Sy",
      "include_colab_link": true
    },
    "kernelspec": {
      "name": "python3",
      "display_name": "Python 3"
    },
    "language_info": {
      "name": "python"
    }
  },
  "cells": [
    {
      "cell_type": "markdown",
      "metadata": {
        "id": "view-in-github",
        "colab_type": "text"
      },
      "source": [
        "<a href=\"https://colab.research.google.com/github/Techbasu/master_solidity/blob/master/Penguin.ipynb\" target=\"_parent\"><img src=\"https://colab.research.google.com/assets/colab-badge.svg\" alt=\"Open In Colab\"/></a>"
      ]
    },
    {
      "cell_type": "markdown",
      "source": [
        "## IMPORT THE LIBRARIES"
      ],
      "metadata": {
        "id": "4AJ8R9POWjDc"
      }
    },
    {
      "cell_type": "code",
      "execution_count": 62,
      "metadata": {
        "id": "P-N2Jx26O6g5"
      },
      "outputs": [],
      "source": [
        "import numpy as np\n",
        "import pandas as pd"
      ]
    },
    {
      "cell_type": "markdown",
      "source": [
        "## READING THE DATASET AND CLEANING THE DATASET AS WELL"
      ],
      "metadata": {
        "id": "Clb_adSaWnp9"
      }
    },
    {
      "cell_type": "code",
      "source": [
        "df=pd.read_csv('Penguins.csv')\n",
        "con={'species':{'Adelie':0,'Gentoo':1,'Chinstrap':2},\n",
        "     'island':{'Torgersen':0,'Biscoe':1,'Dream':2},\n",
        "     'sex':{'male':0, 'female':1}\n",
        "     }\n",
        "df= df.replace(con)\n",
        "def swap_columns(df, col1, col2):\n",
        "    col_list = list(df.columns)\n",
        "    x, y = col_list.index(col1), col_list.index(col2)\n",
        "    col_list[y], col_list[x] = col_list[x], col_list[y]\n",
        "    df = df[col_list]\n",
        "    return df\n",
        "\n",
        "df=swap_columns(df,'sex','year')\n",
        "df['sex']=df['sex'].fillna(df['sex'].median())\n",
        "X=df.iloc[:, 1:-1].values\n",
        "Y=df.iloc[:,-1].values"
      ],
      "metadata": {
        "id": "4kPt7HreUpsr"
      },
      "execution_count": 63,
      "outputs": []
    },
    {
      "cell_type": "code",
      "source": [
        "print(X)"
      ],
      "metadata": {
        "colab": {
          "base_uri": "https://localhost:8080/"
        },
        "id": "qGg3xaBJ030y",
        "outputId": "e408493a-4796-4527-a29f-cb3aca5160bb"
      },
      "execution_count": 64,
      "outputs": [
        {
          "output_type": "stream",
          "name": "stdout",
          "text": [
            "[[0.000e+00 0.000e+00 3.910e+01 ... 1.810e+02 3.750e+03 2.007e+03]\n",
            " [0.000e+00 0.000e+00 3.950e+01 ... 1.860e+02 3.800e+03 2.007e+03]\n",
            " [0.000e+00 0.000e+00 4.030e+01 ... 1.950e+02 3.250e+03 2.007e+03]\n",
            " ...\n",
            " [2.000e+00 2.000e+00 4.960e+01 ... 1.930e+02 3.775e+03 2.009e+03]\n",
            " [2.000e+00 2.000e+00 5.080e+01 ... 2.100e+02 4.100e+03 2.009e+03]\n",
            " [2.000e+00 2.000e+00 5.020e+01 ... 1.980e+02 3.775e+03 2.009e+03]]\n"
          ]
        }
      ]
    },
    {
      "cell_type": "code",
      "source": [
        "print(Y)"
      ],
      "metadata": {
        "colab": {
          "base_uri": "https://localhost:8080/"
        },
        "id": "oV-ZOTT706TI",
        "outputId": "4c5204f7-86ef-4eff-8021-cbc8d02306b1"
      },
      "execution_count": 65,
      "outputs": [
        {
          "output_type": "stream",
          "name": "stdout",
          "text": [
            "[0. 1. 1. 0. 1. 0. 1. 0. 0. 0. 0. 0. 1. 0. 0. 1. 1. 0. 1. 0. 1. 0. 1. 0.\n",
            " 0. 1. 0. 1. 1. 0. 1. 0. 1. 0. 1. 0. 0. 1. 1. 0. 1. 0. 1. 0. 1. 0. 0. 0.\n",
            " 1. 0. 1. 0. 1. 0. 1. 0. 1. 0. 1. 0. 1. 0. 1. 0. 1. 0. 1. 0. 1. 0. 1. 0.\n",
            " 1. 0. 1. 0. 1. 0. 1. 0. 1. 0. 1. 0. 1. 0. 0. 1. 0. 1. 1. 0. 1. 0. 1. 0.\n",
            " 1. 0. 1. 0. 1. 0. 1. 0. 1. 0. 1. 0. 1. 0. 1. 0. 1. 0. 1. 0. 1. 0. 1. 0.\n",
            " 1. 0. 1. 0. 1. 0. 1. 0. 1. 0. 1. 0. 1. 0. 1. 0. 1. 0. 1. 0. 1. 0. 1. 0.\n",
            " 1. 0. 0. 1. 1. 0. 1. 0. 1. 0. 1. 0. 0. 1. 1. 0. 1. 0. 1. 0. 1. 0. 1. 0.\n",
            " 1. 0. 1. 0. 0. 1. 1. 0. 1. 0. 0. 0. 1. 0. 0. 1. 1. 0. 1. 0. 1. 0. 1. 0.\n",
            " 1. 0. 1. 0. 0. 1. 1. 0. 1. 0. 1. 0. 1. 0. 1. 0. 1. 0. 1. 0. 1. 0. 1. 0.\n",
            " 1. 0. 0. 0. 1. 0. 1. 0. 0. 1. 1. 0. 1. 0. 1. 0. 1. 0. 1. 0. 1. 0. 1. 0.\n",
            " 1. 0. 1. 0. 1. 0. 1. 0. 0. 1. 1. 0. 1. 0. 1. 0. 0. 0. 1. 0. 1. 0. 1. 0.\n",
            " 1. 0. 1. 0. 0. 0. 1. 0. 1. 0. 1. 0. 1. 0. 0. 1. 0. 1. 1. 0. 1. 0. 1. 0.\n",
            " 1. 0. 1. 0. 0. 1. 1. 0. 1. 0. 1. 0. 1. 0. 1. 0. 1. 0. 1. 0. 1. 0. 0. 1.\n",
            " 1. 0. 1. 0. 0. 1. 0. 1. 1. 0. 1. 0. 0. 1. 1. 0. 1. 0. 1. 0. 1. 0. 0. 1.\n",
            " 0. 1. 1. 0. 1. 0. 0. 1.]\n"
          ]
        }
      ]
    },
    {
      "cell_type": "code",
      "source": [
        "print(df)"
      ],
      "metadata": {
        "colab": {
          "base_uri": "https://localhost:8080/"
        },
        "id": "t7CWihXVV3CG",
        "outputId": "ac524115-4ed3-4285-e5aa-71a492ca4dff"
      },
      "execution_count": 66,
      "outputs": [
        {
          "output_type": "stream",
          "name": "stdout",
          "text": [
            "     rowid  species  island  bill_length_mm  bill_depth_mm  flipper_length_mm  \\\n",
            "0        1        0       0            39.1           18.7              181.0   \n",
            "1        2        0       0            39.5           17.4              186.0   \n",
            "2        3        0       0            40.3           18.0              195.0   \n",
            "3        4        0       0             NaN            NaN                NaN   \n",
            "4        5        0       0            36.7           19.3              193.0   \n",
            "..     ...      ...     ...             ...            ...                ...   \n",
            "339    340        2       2            55.8           19.8              207.0   \n",
            "340    341        2       2            43.5           18.1              202.0   \n",
            "341    342        2       2            49.6           18.2              193.0   \n",
            "342    343        2       2            50.8           19.0              210.0   \n",
            "343    344        2       2            50.2           18.7              198.0   \n",
            "\n",
            "     body_mass_g  year  sex  \n",
            "0         3750.0  2007  0.0  \n",
            "1         3800.0  2007  1.0  \n",
            "2         3250.0  2007  1.0  \n",
            "3            NaN  2007  0.0  \n",
            "4         3450.0  2007  1.0  \n",
            "..           ...   ...  ...  \n",
            "339       4000.0  2009  0.0  \n",
            "340       3400.0  2009  1.0  \n",
            "341       3775.0  2009  0.0  \n",
            "342       4100.0  2009  0.0  \n",
            "343       3775.0  2009  1.0  \n",
            "\n",
            "[344 rows x 9 columns]\n"
          ]
        }
      ]
    },
    {
      "cell_type": "markdown",
      "source": [
        "## TREATING MISSING VALUES IN INDEPENDANT VALUE"
      ],
      "metadata": {
        "id": "o5VNlE0sXugc"
      }
    },
    {
      "cell_type": "code",
      "source": [
        "from sklearn.impute import SimpleImputer as SI\n",
        "imp_mean= SI(missing_values=np.nan,strategy='mean')\n",
        "X=imp_mean.fit_transform(X)"
      ],
      "metadata": {
        "id": "zfNHiUHPXt_3"
      },
      "execution_count": 67,
      "outputs": []
    },
    {
      "cell_type": "code",
      "source": [
        "print(X)"
      ],
      "metadata": {
        "colab": {
          "base_uri": "https://localhost:8080/"
        },
        "id": "akwZZQoWX-2y",
        "outputId": "bbb42a7a-607c-4ca5-85f4-fa73c871e695"
      },
      "execution_count": 68,
      "outputs": [
        {
          "output_type": "stream",
          "name": "stdout",
          "text": [
            "[[0.000e+00 0.000e+00 3.910e+01 ... 1.810e+02 3.750e+03 2.007e+03]\n",
            " [0.000e+00 0.000e+00 3.950e+01 ... 1.860e+02 3.800e+03 2.007e+03]\n",
            " [0.000e+00 0.000e+00 4.030e+01 ... 1.950e+02 3.250e+03 2.007e+03]\n",
            " ...\n",
            " [2.000e+00 2.000e+00 4.960e+01 ... 1.930e+02 3.775e+03 2.009e+03]\n",
            " [2.000e+00 2.000e+00 5.080e+01 ... 2.100e+02 4.100e+03 2.009e+03]\n",
            " [2.000e+00 2.000e+00 5.020e+01 ... 1.980e+02 3.775e+03 2.009e+03]]\n"
          ]
        }
      ]
    },
    {
      "cell_type": "markdown",
      "source": [
        "## ENCODING DEPENDANT VARIABLE"
      ],
      "metadata": {
        "id": "-cfxwBhmZsiF"
      }
    },
    {
      "cell_type": "code",
      "source": [
        "from sklearn.preprocessing import LabelEncoder\n",
        "le = LabelEncoder()\n",
        "Y= le.fit_transform(Y)"
      ],
      "metadata": {
        "id": "TXgiNCL_bD5U"
      },
      "execution_count": 69,
      "outputs": []
    },
    {
      "cell_type": "code",
      "source": [
        "print(Y)"
      ],
      "metadata": {
        "colab": {
          "base_uri": "https://localhost:8080/"
        },
        "id": "P5_Lo863bJjP",
        "outputId": "349d34b8-f1a6-461a-ac64-a0d5ddc1dacf"
      },
      "execution_count": 70,
      "outputs": [
        {
          "output_type": "stream",
          "name": "stdout",
          "text": [
            "[0 1 1 0 1 0 1 0 0 0 0 0 1 0 0 1 1 0 1 0 1 0 1 0 0 1 0 1 1 0 1 0 1 0 1 0 0\n",
            " 1 1 0 1 0 1 0 1 0 0 0 1 0 1 0 1 0 1 0 1 0 1 0 1 0 1 0 1 0 1 0 1 0 1 0 1 0\n",
            " 1 0 1 0 1 0 1 0 1 0 1 0 0 1 0 1 1 0 1 0 1 0 1 0 1 0 1 0 1 0 1 0 1 0 1 0 1\n",
            " 0 1 0 1 0 1 0 1 0 1 0 1 0 1 0 1 0 1 0 1 0 1 0 1 0 1 0 1 0 1 0 1 0 1 0 0 1\n",
            " 1 0 1 0 1 0 1 0 0 1 1 0 1 0 1 0 1 0 1 0 1 0 1 0 0 1 1 0 1 0 0 0 1 0 0 1 1\n",
            " 0 1 0 1 0 1 0 1 0 1 0 0 1 1 0 1 0 1 0 1 0 1 0 1 0 1 0 1 0 1 0 1 0 0 0 1 0\n",
            " 1 0 0 1 1 0 1 0 1 0 1 0 1 0 1 0 1 0 1 0 1 0 1 0 1 0 0 1 1 0 1 0 1 0 0 0 1\n",
            " 0 1 0 1 0 1 0 1 0 0 0 1 0 1 0 1 0 1 0 0 1 0 1 1 0 1 0 1 0 1 0 1 0 0 1 1 0\n",
            " 1 0 1 0 1 0 1 0 1 0 1 0 1 0 0 1 1 0 1 0 0 1 0 1 1 0 1 0 0 1 1 0 1 0 1 0 1\n",
            " 0 0 1 0 1 1 0 1 0 0 1]\n"
          ]
        }
      ]
    },
    {
      "cell_type": "markdown",
      "source": [
        "## SPLITTING INTO TRAIN AND TEST SETS"
      ],
      "metadata": {
        "id": "b_0JZ9hBq_R9"
      }
    },
    {
      "cell_type": "code",
      "source": [
        "from sklearn.model_selection import train_test_split as tts\n",
        "x_train,x_test,y_train,y_test=tts(X,Y,test_size=0.20,random_state=0)"
      ],
      "metadata": {
        "id": "5-GizfMlrClo"
      },
      "execution_count": 71,
      "outputs": []
    },
    {
      "cell_type": "code",
      "source": [
        "print(x_train)"
      ],
      "metadata": {
        "colab": {
          "base_uri": "https://localhost:8080/"
        },
        "id": "BaEMIwHErU7Z",
        "outputId": "63434de5-09c0-44c7-91b7-add5bdc952f0"
      },
      "execution_count": 72,
      "outputs": [
        {
          "output_type": "stream",
          "name": "stdout",
          "text": [
            "[[0.000e+00 2.000e+00 4.230e+01 ... 1.910e+02 4.150e+03 2.007e+03]\n",
            " [2.000e+00 2.000e+00 4.970e+01 ... 1.950e+02 3.600e+03 2.008e+03]\n",
            " [2.000e+00 2.000e+00 4.980e+01 ... 1.980e+02 3.675e+03 2.009e+03]\n",
            " ...\n",
            " [0.000e+00 0.000e+00 3.730e+01 ... 1.990e+02 3.775e+03 2.009e+03]\n",
            " [0.000e+00 2.000e+00 3.750e+01 ... 1.790e+02 2.975e+03 2.007e+03]\n",
            " [1.000e+00 1.000e+00 5.020e+01 ... 2.180e+02 5.700e+03 2.007e+03]]\n"
          ]
        }
      ]
    },
    {
      "cell_type": "code",
      "source": [
        "print(x_test)"
      ],
      "metadata": {
        "colab": {
          "base_uri": "https://localhost:8080/"
        },
        "id": "PZCQ4MgQrW4X",
        "outputId": "97cf4dc1-9215-48a8-e8ca-6059ff657cb1"
      },
      "execution_count": 73,
      "outputs": [
        {
          "output_type": "stream",
          "name": "stdout",
          "text": [
            "[[0.000e+00 2.000e+00 4.060e+01 1.720e+01 1.870e+02 3.475e+03 2.009e+03]\n",
            " [0.000e+00 0.000e+00 3.890e+01 1.780e+01 1.810e+02 3.625e+03 2.007e+03]\n",
            " [0.000e+00 1.000e+00 3.570e+01 1.690e+01 1.850e+02 3.150e+03 2.008e+03]\n",
            " [1.000e+00 1.000e+00 4.690e+01 1.460e+01 2.220e+02 4.875e+03 2.009e+03]\n",
            " [0.000e+00 1.000e+00 3.450e+01 1.810e+01 1.870e+02 2.900e+03 2.008e+03]\n",
            " [2.000e+00 2.000e+00 4.760e+01 1.830e+01 1.950e+02 3.850e+03 2.008e+03]\n",
            " [0.000e+00 0.000e+00 3.880e+01 1.760e+01 1.910e+02 3.275e+03 2.009e+03]\n",
            " [1.000e+00 1.000e+00 5.430e+01 1.570e+01 2.310e+02 5.650e+03 2.008e+03]\n",
            " [1.000e+00 1.000e+00 4.850e+01 1.500e+01 2.190e+02 4.850e+03 2.009e+03]\n",
            " [0.000e+00 1.000e+00 3.500e+01 1.790e+01 1.920e+02 3.725e+03 2.009e+03]\n",
            " [0.000e+00 1.000e+00 4.100e+01 2.000e+01 2.030e+02 4.725e+03 2.009e+03]\n",
            " [1.000e+00 1.000e+00 4.750e+01 1.420e+01 2.090e+02 4.600e+03 2.008e+03]\n",
            " [0.000e+00 2.000e+00 3.210e+01 1.550e+01 1.880e+02 3.050e+03 2.009e+03]\n",
            " [2.000e+00 2.000e+00 4.520e+01 1.780e+01 1.980e+02 3.950e+03 2.007e+03]\n",
            " [1.000e+00 1.000e+00 4.340e+01 1.440e+01 2.180e+02 4.600e+03 2.009e+03]\n",
            " [0.000e+00 2.000e+00 4.220e+01 1.850e+01 1.800e+02 3.550e+03 2.007e+03]\n",
            " [0.000e+00 1.000e+00 3.640e+01 1.710e+01 1.840e+02 2.850e+03 2.008e+03]\n",
            " [1.000e+00 1.000e+00 4.740e+01 1.460e+01 2.120e+02 4.725e+03 2.009e+03]\n",
            " [0.000e+00 1.000e+00 3.900e+01 1.750e+01 1.860e+02 3.550e+03 2.008e+03]\n",
            " [0.000e+00 0.000e+00 3.660e+01 1.780e+01 1.850e+02 3.700e+03 2.007e+03]\n",
            " [2.000e+00 2.000e+00 4.660e+01 1.780e+01 1.930e+02 3.800e+03 2.007e+03]\n",
            " [0.000e+00 0.000e+00 3.590e+01 1.660e+01 1.900e+02 3.050e+03 2.008e+03]\n",
            " [1.000e+00 1.000e+00 5.050e+01 1.590e+01 2.250e+02 5.400e+03 2.008e+03]\n",
            " [0.000e+00 2.000e+00 3.680e+01 1.850e+01 1.930e+02 3.500e+03 2.009e+03]\n",
            " [1.000e+00 1.000e+00 5.250e+01 1.560e+01 2.210e+02 5.450e+03 2.009e+03]\n",
            " [1.000e+00 1.000e+00 4.750e+01 1.400e+01 2.120e+02 4.875e+03 2.009e+03]\n",
            " [1.000e+00 1.000e+00 4.990e+01 1.610e+01 2.130e+02 5.400e+03 2.009e+03]\n",
            " [0.000e+00 1.000e+00 4.060e+01 1.860e+01 1.830e+02 3.550e+03 2.007e+03]\n",
            " [0.000e+00 1.000e+00 4.140e+01 1.860e+01 1.910e+02 3.700e+03 2.008e+03]\n",
            " [1.000e+00 1.000e+00 4.330e+01 1.400e+01 2.080e+02 4.575e+03 2.009e+03]\n",
            " [1.000e+00 1.000e+00 5.080e+01 1.570e+01 2.260e+02 5.200e+03 2.009e+03]\n",
            " [1.000e+00 1.000e+00 4.530e+01 1.370e+01 2.100e+02 4.300e+03 2.008e+03]\n",
            " [0.000e+00 1.000e+00 3.780e+01 1.830e+01 1.740e+02 3.400e+03 2.007e+03]\n",
            " [0.000e+00 0.000e+00 3.620e+01 1.610e+01 1.870e+02 3.550e+03 2.008e+03]\n",
            " [0.000e+00 1.000e+00 3.780e+01 2.000e+01 1.900e+02 4.250e+03 2.009e+03]\n",
            " [1.000e+00 1.000e+00 4.440e+01 1.730e+01 2.190e+02 5.250e+03 2.008e+03]\n",
            " [2.000e+00 2.000e+00 4.950e+01 1.900e+01 2.000e+02 3.800e+03 2.008e+03]\n",
            " [1.000e+00 1.000e+00 4.760e+01 1.450e+01 2.150e+02 5.400e+03 2.007e+03]\n",
            " [0.000e+00 1.000e+00 3.760e+01 1.910e+01 1.940e+02 3.750e+03 2.008e+03]\n",
            " [0.000e+00 1.000e+00 4.160e+01 1.800e+01 1.920e+02 3.950e+03 2.008e+03]\n",
            " [0.000e+00 2.000e+00 3.900e+01 1.870e+01 1.850e+02 3.650e+03 2.009e+03]\n",
            " [0.000e+00 1.000e+00 4.110e+01 1.820e+01 1.920e+02 4.050e+03 2.008e+03]\n",
            " [0.000e+00 0.000e+00 3.550e+01 1.750e+01 1.900e+02 3.700e+03 2.008e+03]\n",
            " [2.000e+00 2.000e+00 5.010e+01 1.790e+01 1.900e+02 3.400e+03 2.009e+03]\n",
            " [2.000e+00 2.000e+00 5.020e+01 1.870e+01 1.980e+02 3.775e+03 2.009e+03]\n",
            " [0.000e+00 0.000e+00 3.920e+01 1.960e+01 1.950e+02 4.675e+03 2.007e+03]\n",
            " [2.000e+00 2.000e+00 4.850e+01 1.750e+01 1.910e+02 3.400e+03 2.007e+03]\n",
            " [1.000e+00 1.000e+00 5.050e+01 1.590e+01 2.220e+02 5.550e+03 2.008e+03]\n",
            " [0.000e+00 2.000e+00 3.920e+01 1.860e+01 1.900e+02 4.250e+03 2.009e+03]\n",
            " [1.000e+00 1.000e+00 4.940e+01 1.580e+01 2.160e+02 4.925e+03 2.009e+03]\n",
            " [0.000e+00 2.000e+00 3.400e+01 1.710e+01 1.850e+02 3.400e+03 2.008e+03]\n",
            " [0.000e+00 2.000e+00 3.890e+01 1.880e+01 1.900e+02 3.600e+03 2.008e+03]\n",
            " [0.000e+00 0.000e+00 3.520e+01 1.590e+01 1.860e+02 3.050e+03 2.009e+03]\n",
            " [0.000e+00 1.000e+00 3.770e+01 1.600e+01 1.830e+02 3.075e+03 2.009e+03]\n",
            " [0.000e+00 2.000e+00 4.020e+01 2.010e+01 2.000e+02 3.975e+03 2.009e+03]\n",
            " [1.000e+00 1.000e+00 4.580e+01 1.420e+01 2.190e+02 4.700e+03 2.008e+03]\n",
            " [0.000e+00 1.000e+00 3.500e+01 1.790e+01 1.900e+02 3.450e+03 2.008e+03]\n",
            " [2.000e+00 2.000e+00 5.200e+01 1.900e+01 1.970e+02 4.150e+03 2.007e+03]\n",
            " [1.000e+00 1.000e+00 4.380e+01 1.390e+01 2.080e+02 4.300e+03 2.008e+03]\n",
            " [1.000e+00 1.000e+00 5.130e+01 1.420e+01 2.180e+02 5.300e+03 2.009e+03]\n",
            " [1.000e+00 1.000e+00 4.530e+01 1.380e+01 2.080e+02 4.200e+03 2.008e+03]\n",
            " [1.000e+00 1.000e+00 5.000e+01 1.530e+01 2.200e+02 5.550e+03 2.007e+03]\n",
            " [0.000e+00 0.000e+00 4.090e+01 1.680e+01 1.910e+02 3.700e+03 2.008e+03]\n",
            " [2.000e+00 2.000e+00 5.060e+01 1.940e+01 1.930e+02 3.800e+03 2.007e+03]\n",
            " [1.000e+00 1.000e+00 5.110e+01 1.630e+01 2.200e+02 6.000e+03 2.008e+03]\n",
            " [2.000e+00 2.000e+00 4.320e+01 1.660e+01 1.870e+02 2.900e+03 2.007e+03]\n",
            " [0.000e+00 1.000e+00 3.770e+01 1.870e+01 1.800e+02 3.600e+03 2.007e+03]\n",
            " [1.000e+00 1.000e+00 4.450e+01 1.470e+01 2.140e+02 4.850e+03 2.009e+03]\n",
            " [2.000e+00 2.000e+00 5.050e+01 1.960e+01 2.010e+02 4.050e+03 2.007e+03]]\n"
          ]
        }
      ]
    },
    {
      "cell_type": "code",
      "source": [
        "print(y_train)"
      ],
      "metadata": {
        "colab": {
          "base_uri": "https://localhost:8080/"
        },
        "id": "IxgH3gderYFu",
        "outputId": "adb794fc-3f35-4be6-d78e-c3ecd0f4bfcb"
      },
      "execution_count": 74,
      "outputs": [
        {
          "output_type": "stream",
          "name": "stdout",
          "text": [
            "[0 0 1 1 0 0 1 1 1 1 1 1 1 1 1 1 0 0 1 0 1 0 1 0 1 1 1 0 1 1 0 1 1 0 0 0 0\n",
            " 1 1 0 1 1 1 0 0 0 1 1 0 0 0 1 0 1 0 1 1 0 1 0 1 0 0 0 1 0 1 0 1 0 1 1 0 0\n",
            " 0 1 1 0 0 0 0 0 1 0 1 0 0 0 0 0 1 1 1 0 1 0 1 0 1 0 1 0 0 0 0 1 1 0 1 0 1\n",
            " 1 1 0 0 0 1 0 1 1 0 0 0 1 1 1 0 1 1 1 1 0 0 0 0 0 0 0 1 0 1 1 0 0 0 0 1 0\n",
            " 0 0 1 0 1 0 1 1 0 0 0 0 1 0 0 0 1 0 1 0 0 0 1 0 1 1 1 1 1 1 0 0 0 1 0 1 1\n",
            " 0 1 0 0 1 0 0 1 0 0 1 0 0 1 0 0 1 0 1 0 1 0 1 0 1 0 1 0 0 1 0 0 0 0 1 1 0\n",
            " 0 1 1 0 1 1 1 1 1 0 0 1 1 0 1 0 0 1 1 1 1 0 1 0 0 1 0 0 0 1 1 0 0 1 0 0 0\n",
            " 1 0 1 1 0 1 0 0 0 0 0 0 1 0 0 0]\n"
          ]
        }
      ]
    },
    {
      "cell_type": "code",
      "source": [
        "print(y_test)"
      ],
      "metadata": {
        "colab": {
          "base_uri": "https://localhost:8080/"
        },
        "id": "SW4I9ytOrZgm",
        "outputId": "0fff0c23-6e48-43fa-dbbc-35f64b6f8760"
      },
      "execution_count": 75,
      "outputs": [
        {
          "output_type": "stream",
          "name": "stdout",
          "text": [
            "[0 1 1 1 1 1 1 0 1 1 0 1 1 1 1 1 1 1 1 1 1 1 0 1 0 1 0 0 0 1 0 1 1 1 0 0 0\n",
            " 0 0 0 0 0 1 1 1 0 0 0 0 0 1 1 1 1 0 1 1 0 1 0 1 0 1 0 0 1 0 1 0]\n"
          ]
        }
      ]
    },
    {
      "cell_type": "markdown",
      "source": [
        "## FEATURE SCALING"
      ],
      "metadata": {
        "id": "7iyXoWm0t6mG"
      }
    },
    {
      "cell_type": "code",
      "source": [
        "from sklearn.preprocessing import StandardScaler as SSC\n",
        "sc= SSC()\n",
        "x_train=sc.fit_transform(x_train)\n",
        "x_test= sc.transform(x_test)"
      ],
      "metadata": {
        "id": "JeCEf5XWt8wF"
      },
      "execution_count": 76,
      "outputs": []
    },
    {
      "cell_type": "code",
      "source": [
        "print(x_train)"
      ],
      "metadata": {
        "colab": {
          "base_uri": "https://localhost:8080/"
        },
        "id": "VebYWnjeuTCh",
        "outputId": "fe46a7fb-4b59-4b3a-ee5b-408ed5e5b35e"
      },
      "execution_count": 77,
      "outputs": [
        {
          "output_type": "stream",
          "name": "stdout",
          "text": [
            "[[-1.01555331  1.11701004 -0.34188472 ... -0.74257793 -0.09250803\n",
            "  -1.20944862]\n",
            " [ 1.59451361  1.11701004  1.04668715 ... -0.45514497 -0.7816421\n",
            "   0.        ]\n",
            " [ 1.59451361  1.11701004  1.06545163 ... -0.23957025 -0.68766927\n",
            "   1.20944862]\n",
            " ...\n",
            " [-1.01555331 -1.75381015 -1.28010896 ... -0.16771201 -0.56237217\n",
            "   1.20944862]\n",
            " [-1.01555331  1.11701004 -1.24257999 ... -1.6048768  -1.564749\n",
            "  -1.20944862]\n",
            " [ 0.28948015 -0.31840006  1.14050957 ...  1.19759454  1.84959707\n",
            "  -1.20944862]]\n"
          ]
        }
      ]
    },
    {
      "cell_type": "code",
      "source": [
        "print(x_test)"
      ],
      "metadata": {
        "colab": {
          "base_uri": "https://localhost:8080/"
        },
        "id": "zZP21__4uS3K",
        "outputId": "96d2d0b2-b90d-4f9b-f32a-28254104e8c4"
      },
      "execution_count": 78,
      "outputs": [
        {
          "output_type": "stream",
          "name": "stdout",
          "text": [
            "[[-1.01555331e+00  1.11701004e+00 -6.60880962e-01  1.08411947e-03\n",
            "  -1.03001088e+00 -9.38263479e-01  1.20944862e+00]\n",
            " [-1.01555331e+00 -1.75381015e+00 -9.79877202e-01  3.00383833e-01\n",
            "  -1.46116032e+00 -7.50317824e-01 -1.20944862e+00]\n",
            " [-1.01555331e+00 -3.18400057e-01 -1.58034071e+00 -1.48565737e-01\n",
            "  -1.17372736e+00 -1.34547907e+00  0.00000000e+00]\n",
            " [ 2.89480149e-01 -3.18400057e-01  5.21281575e-01 -1.29588131e+00\n",
            "   1.48502749e+00  8.15895970e-01  1.20944862e+00]\n",
            " [-1.01555331e+00 -3.18400057e-01 -1.80551453e+00  4.50033690e-01\n",
            "  -1.03001088e+00 -1.65872182e+00  0.00000000e+00]\n",
            " [ 1.59451361e+00  1.11701004e+00  6.52632969e-01  5.49800261e-01\n",
            "  -4.55144969e-01 -4.68399341e-01  0.00000000e+00]\n",
            " [-1.01555331e+00 -1.75381015e+00 -9.98641687e-01  2.00617262e-01\n",
            "  -7.42577927e-01 -1.18885769e+00  1.20944862e+00]\n",
            " [ 2.89480149e-01 -3.18400057e-01  1.90985345e+00 -7.47165165e-01\n",
            "   2.13175165e+00  1.78694852e+00  0.00000000e+00]\n",
            " [ 2.89480149e-01 -3.18400057e-01  8.21513331e-01 -1.09634816e+00\n",
            "   1.26945278e+00  7.84571694e-01  1.20944862e+00]\n",
            " [-1.01555331e+00 -3.18400057e-01 -1.71169211e+00  3.50267119e-01\n",
            "  -6.70719687e-01 -6.25020721e-01  1.20944862e+00]\n",
            " [-1.01555331e+00 -3.18400057e-01 -5.85823023e-01  1.39781612e+00\n",
            "   1.19720946e-01  6.27950315e-01  1.20944862e+00]\n",
            " [ 2.89480149e-01 -3.18400057e-01  6.33868484e-01 -1.49541445e+00\n",
            "   5.50870382e-01  4.71328935e-01  0.00000000e+00]\n",
            " [-1.01555331e+00  1.11701004e+00 -2.25586216e+00 -8.46931736e-01\n",
            "  -9.58152645e-01 -1.47077617e+00  1.20944862e+00]\n",
            " [ 1.59451361e+00  1.11701004e+00  2.02285335e-01  3.00383833e-01\n",
            "  -2.39570251e-01 -3.43102238e-01 -1.20944862e+00]\n",
            " [ 2.89480149e-01 -3.18400057e-01 -1.35475390e-01 -1.39564788e+00\n",
            "   1.19759454e+00  4.71328935e-01  1.20944862e+00]\n",
            " [-1.01555331e+00  1.11701004e+00 -3.60649207e-01  6.49566833e-01\n",
            "  -1.53301856e+00 -8.44290652e-01 -1.20944862e+00]\n",
            " [-1.01555331e+00 -3.18400057e-01 -1.44898932e+00 -4.87991662e-02\n",
            "  -1.24558560e+00 -1.72137038e+00  0.00000000e+00]\n",
            " [ 2.89480149e-01 -3.18400057e-01  6.15103999e-01 -1.29588131e+00\n",
            "   7.66445100e-01  6.27950315e-01  1.20944862e+00]\n",
            " [-1.01555331e+00 -3.18400057e-01 -9.61112718e-01  1.50733976e-01\n",
            "  -1.10186912e+00 -8.44290652e-01  0.00000000e+00]\n",
            " [-1.01555331e+00 -1.75381015e+00 -1.41146035e+00  3.00383833e-01\n",
            "  -1.17372736e+00 -6.56344996e-01 -1.20944862e+00]\n",
            " [ 1.59451361e+00  1.11701004e+00  4.64988121e-01  3.00383833e-01\n",
            "  -5.98861448e-01 -5.31047893e-01 -1.20944862e+00]\n",
            " [-1.01555331e+00 -1.75381015e+00 -1.54281174e+00 -2.98215594e-01\n",
            "  -8.14436166e-01 -1.47077617e+00  0.00000000e+00]\n",
            " [ 2.89480149e-01 -3.18400057e-01  1.19680303e+00 -6.47398594e-01\n",
            "   1.70060221e+00  1.47370576e+00  0.00000000e+00]\n",
            " [-1.01555331e+00  1.11701004e+00 -1.37393138e+00  6.49566833e-01\n",
            "  -5.98861448e-01 -9.06939204e-01  1.20944862e+00]\n",
            " [ 2.89480149e-01 -3.18400057e-01  1.57209272e+00 -7.97048451e-01\n",
            "   1.41316925e+00  1.53635432e+00  1.20944862e+00]\n",
            " [ 2.89480149e-01 -3.18400057e-01  6.33868484e-01 -1.59518102e+00\n",
            "   7.66445100e-01  8.15895970e-01  1.20944862e+00]\n",
            " [ 2.89480149e-01 -3.18400057e-01  1.08421612e+00 -5.47632022e-01\n",
            "   8.38303340e-01  1.47370576e+00  1.20944862e+00]\n",
            " [-1.01555331e+00 -3.18400057e-01 -6.60880962e-01  6.99450118e-01\n",
            "  -1.31744384e+00 -8.44290652e-01 -1.20944862e+00]\n",
            " [-1.01555331e+00 -3.18400057e-01 -5.10765084e-01  6.99450118e-01\n",
            "  -7.42577927e-01 -6.56344996e-01  0.00000000e+00]\n",
            " [ 2.89480149e-01 -3.18400057e-01 -1.54239875e-01 -1.59518102e+00\n",
            "   4.79012143e-01  4.40004659e-01  1.20944862e+00]\n",
            " [ 2.89480149e-01 -3.18400057e-01  1.25309648e+00 -7.47165165e-01\n",
            "   1.77246045e+00  1.22311156e+00  1.20944862e+00]\n",
            " [ 2.89480149e-01 -3.18400057e-01  2.21049820e-01 -1.74483088e+00\n",
            "   6.22728622e-01  9.54376247e-02  0.00000000e+00]\n",
            " [-1.01555331e+00 -3.18400057e-01 -1.18628653e+00  5.49800261e-01\n",
            "  -1.96416800e+00 -1.03223631e+00 -1.20944862e+00]\n",
            " [-1.01555331e+00 -1.75381015e+00 -1.48651829e+00 -5.47632022e-01\n",
            "  -1.03001088e+00 -8.44290652e-01  0.00000000e+00]\n",
            " [-1.01555331e+00 -3.18400057e-01 -1.18628653e+00  1.39781612e+00\n",
            "  -8.14436166e-01  3.27890730e-02  1.20944862e+00]\n",
            " [ 2.89480149e-01 -3.18400057e-01  5.21694574e-02  5.09674051e-02\n",
            "   1.26945278e+00  1.28576011e+00  0.00000000e+00]\n",
            " [ 1.59451361e+00  1.11701004e+00  1.00915818e+00  8.98983261e-01\n",
            "  -9.58537723e-02 -5.31047893e-01  0.00000000e+00]\n",
            " [ 2.89480149e-01 -3.18400057e-01  6.52632969e-01 -1.34576459e+00\n",
            "   9.82019819e-01  1.47370576e+00 -1.20944862e+00]\n",
            " [-1.01555331e+00 -3.18400057e-01 -1.22381550e+00  9.48866546e-01\n",
            "  -5.27003209e-01 -5.93696445e-01  0.00000000e+00]\n",
            " [-1.01555331e+00 -3.18400057e-01 -4.73236115e-01  4.00150404e-01\n",
            "  -6.70719687e-01 -3.43102238e-01  0.00000000e+00]\n",
            " [-1.01555331e+00  1.11701004e+00 -9.61112718e-01  7.49333404e-01\n",
            "  -1.17372736e+00 -7.18993548e-01  1.20944862e+00]\n",
            " [-1.01555331e+00 -3.18400057e-01 -5.67058539e-01  4.99916976e-01\n",
            "  -6.70719687e-01 -2.17805134e-01  0.00000000e+00]\n",
            " [-1.01555331e+00 -1.75381015e+00 -1.61786968e+00  1.50733976e-01\n",
            "  -8.14436166e-01 -6.56344996e-01  0.00000000e+00]\n",
            " [ 1.59451361e+00  1.11701004e+00  1.12174509e+00  3.50267119e-01\n",
            "  -8.14436166e-01 -1.03223631e+00  1.20944862e+00]\n",
            " [ 1.59451361e+00  1.11701004e+00  1.14050957e+00  7.49333404e-01\n",
            "  -2.39570251e-01 -5.62372169e-01  1.20944862e+00]\n",
            " [-1.01555331e+00 -1.75381015e+00 -9.23583748e-01  1.19828297e+00\n",
            "  -4.55144969e-01  5.65301763e-01 -1.20944862e+00]\n",
            " [ 1.59451361e+00  1.11701004e+00  8.21513331e-01  1.50733976e-01\n",
            "  -7.42577927e-01 -1.03223631e+00 -1.20944862e+00]\n",
            " [ 2.89480149e-01 -3.18400057e-01  1.19680303e+00 -6.47398594e-01\n",
            "   1.48502749e+00  1.66165142e+00  0.00000000e+00]\n",
            " [-1.01555331e+00  1.11701004e+00 -9.23583748e-01  6.99450118e-01\n",
            "  -8.14436166e-01  3.27890730e-02  1.20944862e+00]\n",
            " [ 2.89480149e-01 -3.18400057e-01  9.90393694e-01 -6.97281879e-01\n",
            "   1.05387806e+00  8.78544522e-01  1.20944862e+00]\n",
            " [-1.01555331e+00  1.11701004e+00 -1.89933695e+00 -4.87991662e-02\n",
            "  -1.17372736e+00 -1.03223631e+00  0.00000000e+00]\n",
            " [-1.01555331e+00  1.11701004e+00 -9.79877202e-01  7.99216689e-01\n",
            "  -8.14436166e-01 -7.81642100e-01  0.00000000e+00]\n",
            " [-1.01555331e+00 -1.75381015e+00 -1.67416314e+00 -6.47398594e-01\n",
            "  -1.10186912e+00 -1.47077617e+00  1.20944862e+00]\n",
            " [-1.01555331e+00 -3.18400057e-01 -1.20505102e+00 -5.97515308e-01\n",
            "  -1.31744384e+00 -1.43945189e+00  1.20944862e+00]\n",
            " [-1.01555331e+00  1.11701004e+00 -7.35938901e-01  1.44769940e+00\n",
            "  -9.58537723e-02 -3.11777962e-01  1.20944862e+00]\n",
            " [ 2.89480149e-01 -3.18400057e-01  3.14872244e-01 -1.49541445e+00\n",
            "   1.26945278e+00  5.96626039e-01  0.00000000e+00]\n",
            " [-1.01555331e+00 -3.18400057e-01 -1.71169211e+00  3.50267119e-01\n",
            "  -8.14436166e-01 -9.69587755e-01  0.00000000e+00]\n",
            " [ 1.59451361e+00  1.11701004e+00  1.47827030e+00  8.98983261e-01\n",
            "  -3.11428490e-01 -9.25080306e-02 -1.20944862e+00]\n",
            " [ 2.89480149e-01 -3.18400057e-01 -6.04174510e-02 -1.64506431e+00\n",
            "   4.79012143e-01  9.54376247e-02  0.00000000e+00]\n",
            " [ 2.89480149e-01 -3.18400057e-01  1.34691890e+00 -1.49541445e+00\n",
            "   1.19759454e+00  1.34840866e+00  1.20944862e+00]\n",
            " [ 2.89480149e-01 -3.18400057e-01  2.21049820e-01 -1.69494759e+00\n",
            "   4.79012143e-01 -2.98594788e-02  0.00000000e+00]\n",
            " [ 2.89480149e-01 -3.18400057e-01  1.10298060e+00 -9.46698307e-01\n",
            "   1.34131102e+00  1.66165142e+00 -1.20944862e+00]\n",
            " [-1.01555331e+00 -1.75381015e+00 -6.04587508e-01 -1.98449023e-01\n",
            "  -7.42577927e-01 -6.56344996e-01  0.00000000e+00]\n",
            " [ 1.59451361e+00  1.11701004e+00  1.21556751e+00  1.09851640e+00\n",
            "  -5.98861448e-01 -5.31047893e-01 -1.20944862e+00]\n",
            " [ 2.89480149e-01 -3.18400057e-01  1.30938993e+00 -4.47865451e-01\n",
            "   1.34131102e+00  2.22548838e+00  0.00000000e+00]\n",
            " [ 1.59451361e+00  1.11701004e+00 -1.73004359e-01 -2.98215594e-01\n",
            "  -1.03001088e+00 -1.65872182e+00 -1.20944862e+00]\n",
            " [-1.01555331e+00 -3.18400057e-01 -1.20505102e+00  7.49333404e-01\n",
            "  -1.53301856e+00 -7.81642100e-01 -1.20944862e+00]\n",
            " [ 2.89480149e-01 -3.18400057e-01  7.09339421e-02 -1.24599802e+00\n",
            "   9.10161579e-01  7.84571694e-01  1.20944862e+00]\n",
            " [ 1.59451361e+00  1.11701004e+00  1.19680303e+00  1.19828297e+00\n",
            "  -2.39955329e-02 -2.17805134e-01 -1.20944862e+00]]\n"
          ]
        }
      ]
    },
    {
      "cell_type": "markdown",
      "source": [
        "## TRAINING THE LOGISTIC REGRESSION MODEL ON THE TRAINING SET"
      ],
      "metadata": {
        "id": "gcw8zXlpumI7"
      }
    },
    {
      "cell_type": "code",
      "source": [
        "from sklearn.linear_model import LogisticRegression as LGR\n",
        "lgr= LGR(random_state=0)\n",
        "lgr.fit(x_train,y_train)"
      ],
      "metadata": {
        "colab": {
          "base_uri": "https://localhost:8080/",
          "height": 74
        },
        "id": "VPgJszG6uvBo",
        "outputId": "7d72528e-2c73-4d97-db2d-0970f7cbbd94"
      },
      "execution_count": 79,
      "outputs": [
        {
          "output_type": "execute_result",
          "data": {
            "text/plain": [
              "LogisticRegression(random_state=0)"
            ],
            "text/html": [
              "<style>#sk-container-id-4 {color: black;background-color: white;}#sk-container-id-4 pre{padding: 0;}#sk-container-id-4 div.sk-toggleable {background-color: white;}#sk-container-id-4 label.sk-toggleable__label {cursor: pointer;display: block;width: 100%;margin-bottom: 0;padding: 0.3em;box-sizing: border-box;text-align: center;}#sk-container-id-4 label.sk-toggleable__label-arrow:before {content: \"▸\";float: left;margin-right: 0.25em;color: #696969;}#sk-container-id-4 label.sk-toggleable__label-arrow:hover:before {color: black;}#sk-container-id-4 div.sk-estimator:hover label.sk-toggleable__label-arrow:before {color: black;}#sk-container-id-4 div.sk-toggleable__content {max-height: 0;max-width: 0;overflow: hidden;text-align: left;background-color: #f0f8ff;}#sk-container-id-4 div.sk-toggleable__content pre {margin: 0.2em;color: black;border-radius: 0.25em;background-color: #f0f8ff;}#sk-container-id-4 input.sk-toggleable__control:checked~div.sk-toggleable__content {max-height: 200px;max-width: 100%;overflow: auto;}#sk-container-id-4 input.sk-toggleable__control:checked~label.sk-toggleable__label-arrow:before {content: \"▾\";}#sk-container-id-4 div.sk-estimator input.sk-toggleable__control:checked~label.sk-toggleable__label {background-color: #d4ebff;}#sk-container-id-4 div.sk-label input.sk-toggleable__control:checked~label.sk-toggleable__label {background-color: #d4ebff;}#sk-container-id-4 input.sk-hidden--visually {border: 0;clip: rect(1px 1px 1px 1px);clip: rect(1px, 1px, 1px, 1px);height: 1px;margin: -1px;overflow: hidden;padding: 0;position: absolute;width: 1px;}#sk-container-id-4 div.sk-estimator {font-family: monospace;background-color: #f0f8ff;border: 1px dotted black;border-radius: 0.25em;box-sizing: border-box;margin-bottom: 0.5em;}#sk-container-id-4 div.sk-estimator:hover {background-color: #d4ebff;}#sk-container-id-4 div.sk-parallel-item::after {content: \"\";width: 100%;border-bottom: 1px solid gray;flex-grow: 1;}#sk-container-id-4 div.sk-label:hover label.sk-toggleable__label {background-color: #d4ebff;}#sk-container-id-4 div.sk-serial::before {content: \"\";position: absolute;border-left: 1px solid gray;box-sizing: border-box;top: 0;bottom: 0;left: 50%;z-index: 0;}#sk-container-id-4 div.sk-serial {display: flex;flex-direction: column;align-items: center;background-color: white;padding-right: 0.2em;padding-left: 0.2em;position: relative;}#sk-container-id-4 div.sk-item {position: relative;z-index: 1;}#sk-container-id-4 div.sk-parallel {display: flex;align-items: stretch;justify-content: center;background-color: white;position: relative;}#sk-container-id-4 div.sk-item::before, #sk-container-id-4 div.sk-parallel-item::before {content: \"\";position: absolute;border-left: 1px solid gray;box-sizing: border-box;top: 0;bottom: 0;left: 50%;z-index: -1;}#sk-container-id-4 div.sk-parallel-item {display: flex;flex-direction: column;z-index: 1;position: relative;background-color: white;}#sk-container-id-4 div.sk-parallel-item:first-child::after {align-self: flex-end;width: 50%;}#sk-container-id-4 div.sk-parallel-item:last-child::after {align-self: flex-start;width: 50%;}#sk-container-id-4 div.sk-parallel-item:only-child::after {width: 0;}#sk-container-id-4 div.sk-dashed-wrapped {border: 1px dashed gray;margin: 0 0.4em 0.5em 0.4em;box-sizing: border-box;padding-bottom: 0.4em;background-color: white;}#sk-container-id-4 div.sk-label label {font-family: monospace;font-weight: bold;display: inline-block;line-height: 1.2em;}#sk-container-id-4 div.sk-label-container {text-align: center;}#sk-container-id-4 div.sk-container {/* jupyter's `normalize.less` sets `[hidden] { display: none; }` but bootstrap.min.css set `[hidden] { display: none !important; }` so we also need the `!important` here to be able to override the default hidden behavior on the sphinx rendered scikit-learn.org. See: https://github.com/scikit-learn/scikit-learn/issues/21755 */display: inline-block !important;position: relative;}#sk-container-id-4 div.sk-text-repr-fallback {display: none;}</style><div id=\"sk-container-id-4\" class=\"sk-top-container\"><div class=\"sk-text-repr-fallback\"><pre>LogisticRegression(random_state=0)</pre><b>In a Jupyter environment, please rerun this cell to show the HTML representation or trust the notebook. <br />On GitHub, the HTML representation is unable to render, please try loading this page with nbviewer.org.</b></div><div class=\"sk-container\" hidden><div class=\"sk-item\"><div class=\"sk-estimator sk-toggleable\"><input class=\"sk-toggleable__control sk-hidden--visually\" id=\"sk-estimator-id-4\" type=\"checkbox\" checked><label for=\"sk-estimator-id-4\" class=\"sk-toggleable__label sk-toggleable__label-arrow\">LogisticRegression</label><div class=\"sk-toggleable__content\"><pre>LogisticRegression(random_state=0)</pre></div></div></div></div></div>"
            ]
          },
          "metadata": {},
          "execution_count": 79
        }
      ]
    },
    {
      "cell_type": "markdown",
      "source": [
        "## PREDICTING THE NEW RESULT[SEX OF PENGUIN]"
      ],
      "metadata": {
        "id": "OeLndz5AvJf4"
      }
    },
    {
      "cell_type": "code",
      "source": [
        "lgr.predict(sc.transform([[2,0,37.8,21,187,4510,2008]]))"
      ],
      "metadata": {
        "colab": {
          "base_uri": "https://localhost:8080/"
        },
        "id": "xsbqjhjNvMT4",
        "outputId": "8f92e10f-5d73-4227-e373-9d82743ffdeb"
      },
      "execution_count": 80,
      "outputs": [
        {
          "output_type": "execute_result",
          "data": {
            "text/plain": [
              "array([0])"
            ]
          },
          "metadata": {},
          "execution_count": 80
        }
      ]
    },
    {
      "cell_type": "code",
      "source": [
        "lgr.predict(sc.transform([[0,2,25,17,178,3567,2008]]))"
      ],
      "metadata": {
        "colab": {
          "base_uri": "https://localhost:8080/"
        },
        "id": "LNipIpFdwrV4",
        "outputId": "6128babe-0447-4c3c-a384-7096afdb3be3"
      },
      "execution_count": 81,
      "outputs": [
        {
          "output_type": "execute_result",
          "data": {
            "text/plain": [
              "array([1])"
            ]
          },
          "metadata": {},
          "execution_count": 81
        }
      ]
    },
    {
      "cell_type": "markdown",
      "source": [
        "## PREDICTING THE NEW TEST SET RESULT"
      ],
      "metadata": {
        "id": "Yo4EiOCwxC4B"
      }
    },
    {
      "cell_type": "code",
      "source": [
        "y_pred= lgr.predict(x_test)\n",
        "print(np.concatenate((y_pred.reshape(len(y_pred),1), y_test.reshape(len(y_test),1)),1))"
      ],
      "metadata": {
        "colab": {
          "base_uri": "https://localhost:8080/"
        },
        "id": "1pNsJNvUxH7K",
        "outputId": "9d90489f-1d41-434a-fbf1-747d03ad97ce"
      },
      "execution_count": 82,
      "outputs": [
        {
          "output_type": "stream",
          "name": "stdout",
          "text": [
            "[[1 0]\n",
            " [1 1]\n",
            " [1 1]\n",
            " [1 1]\n",
            " [1 1]\n",
            " [1 1]\n",
            " [1 1]\n",
            " [0 0]\n",
            " [0 1]\n",
            " [1 1]\n",
            " [0 0]\n",
            " [1 1]\n",
            " [1 1]\n",
            " [1 1]\n",
            " [1 1]\n",
            " [0 1]\n",
            " [1 1]\n",
            " [1 1]\n",
            " [1 1]\n",
            " [1 1]\n",
            " [1 1]\n",
            " [1 1]\n",
            " [0 0]\n",
            " [1 1]\n",
            " [0 0]\n",
            " [1 1]\n",
            " [0 0]\n",
            " [0 0]\n",
            " [0 0]\n",
            " [1 1]\n",
            " [0 0]\n",
            " [1 1]\n",
            " [1 1]\n",
            " [1 1]\n",
            " [0 0]\n",
            " [0 0]\n",
            " [0 0]\n",
            " [0 0]\n",
            " [0 0]\n",
            " [0 0]\n",
            " [0 0]\n",
            " [0 0]\n",
            " [1 1]\n",
            " [1 1]\n",
            " [0 1]\n",
            " [0 0]\n",
            " [1 0]\n",
            " [0 0]\n",
            " [0 0]\n",
            " [0 0]\n",
            " [1 1]\n",
            " [0 1]\n",
            " [1 1]\n",
            " [1 1]\n",
            " [0 0]\n",
            " [1 1]\n",
            " [1 1]\n",
            " [0 0]\n",
            " [1 1]\n",
            " [0 0]\n",
            " [1 1]\n",
            " [0 0]\n",
            " [1 1]\n",
            " [0 0]\n",
            " [0 0]\n",
            " [1 1]\n",
            " [0 0]\n",
            " [1 1]\n",
            " [0 0]]\n"
          ]
        }
      ]
    },
    {
      "cell_type": "markdown",
      "source": [
        "## APPLYING CONFUSION MATRIX FOR THE PREDICTED AND TEST RESULT"
      ],
      "metadata": {
        "id": "Vly4qfnox6W2"
      }
    },
    {
      "cell_type": "code",
      "source": [
        "from sklearn.metrics import confusion_matrix as CM ,accuracy_score as asc\n",
        "cm=CM(y_pred,y_test)\n",
        "print(\"Confusion matrix:\")\n",
        "print(cm)\n",
        "print(\"Accuracy score: \",asc(y_pred,y_test))"
      ],
      "metadata": {
        "colab": {
          "base_uri": "https://localhost:8080/"
        },
        "id": "NcRM5zQdx54r",
        "outputId": "7a8fb6b9-f3d2-4606-fd5c-b5ec9d09c1b4"
      },
      "execution_count": 89,
      "outputs": [
        {
          "output_type": "stream",
          "name": "stdout",
          "text": [
            "Confusion matrix:\n",
            "[[28  4]\n",
            " [ 2 35]]\n",
            "Accuracy score:  0.9130434782608695\n"
          ]
        }
      ]
    }
  ]
}