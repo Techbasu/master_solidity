{
  "nbformat": 4,
  "nbformat_minor": 0,
  "metadata": {
    "colab": {
      "provenance": [],
      "authorship_tag": "ABX9TyOD/7eWZRqS7AAgmZ1J1H9o",
      "include_colab_link": true
    },
    "kernelspec": {
      "name": "python3",
      "display_name": "Python 3"
    },
    "language_info": {
      "name": "python"
    }
  },
  "cells": [
    {
      "cell_type": "markdown",
      "metadata": {
        "id": "view-in-github",
        "colab_type": "text"
      },
      "source": [
        "<a href=\"https://colab.research.google.com/github/Techbasu/master_solidity/blob/master/hiring_project.ipynb\" target=\"_parent\"><img src=\"https://colab.research.google.com/assets/colab-badge.svg\" alt=\"Open In Colab\"/></a>"
      ]
    },
    {
      "cell_type": "markdown",
      "source": [
        "## Importing important header files"
      ],
      "metadata": {
        "id": "5bm5p93RH9ni"
      }
    },
    {
      "cell_type": "code",
      "source": [
        "import numpy as np\n",
        "import matplotlib.pyplot as plt\n",
        "import pandas as pd"
      ],
      "metadata": {
        "id": "E31Nq0yVHltr"
      },
      "execution_count": 38,
      "outputs": []
    },
    {
      "cell_type": "markdown",
      "source": [
        "## Reading csv file and allocation independent and dependent variables and working with the missing values and also conversion from categorical to numerical\n"
      ],
      "metadata": {
        "id": "ztoArNCDH8Jh"
      }
    },
    {
      "cell_type": "code",
      "source": [
        "df=pd.read_csv('hiring.csv')\n",
        "## for categorical values\n",
        "df= df.fillna(df.mode().iloc[0])\n",
        "print(df) # LOCF[Last Observation Carry Forward]\n",
        "from word2number import w2n\n",
        "df.experience= df.experience.apply(w2n.word_to_num)\n",
        "print('\\n')\n",
        "print(df)\n",
        "X=df.iloc[:,:-1].values#independent\n",
        "Y=df.iloc[:, -1].values#dependent"
      ],
      "metadata": {
        "colab": {
          "base_uri": "https://localhost:8080/"
        },
        "id": "JhLfd2BRHrDl",
        "outputId": "e5d9fc0f-615e-40b6-bc11-6bc5c936a711"
      },
      "execution_count": 39,
      "outputs": [
        {
          "output_type": "stream",
          "name": "stdout",
          "text": [
            "  experience  test_score(out of 10)  interview_score(out of 10)  salary($)\n",
            "0     eleven                    8.0                           9      50000\n",
            "1     eleven                    8.0                           6      45000\n",
            "2       five                    6.0                           7      60000\n",
            "3        two                   10.0                          10      65000\n",
            "4      seven                    9.0                           6      70000\n",
            "5      three                    7.0                          10      62000\n",
            "6        ten                    7.0                           7      72000\n",
            "7     eleven                    7.0                           8      80000\n",
            "\n",
            "\n",
            "   experience  test_score(out of 10)  interview_score(out of 10)  salary($)\n",
            "0          11                    8.0                           9      50000\n",
            "1          11                    8.0                           6      45000\n",
            "2           5                    6.0                           7      60000\n",
            "3           2                   10.0                          10      65000\n",
            "4           7                    9.0                           6      70000\n",
            "5           3                    7.0                          10      62000\n",
            "6          10                    7.0                           7      72000\n",
            "7          11                    7.0                           8      80000\n"
          ]
        }
      ]
    },
    {
      "cell_type": "code",
      "source": [
        "print(X)"
      ],
      "metadata": {
        "colab": {
          "base_uri": "https://localhost:8080/"
        },
        "id": "4nzddf8ZZZsm",
        "outputId": "82275730-0ddb-49ac-d3d0-7cf6501563e2"
      },
      "execution_count": 40,
      "outputs": [
        {
          "output_type": "stream",
          "name": "stdout",
          "text": [
            "[[11.  8.  9.]\n",
            " [11.  8.  6.]\n",
            " [ 5.  6.  7.]\n",
            " [ 2. 10. 10.]\n",
            " [ 7.  9.  6.]\n",
            " [ 3.  7. 10.]\n",
            " [10.  7.  7.]\n",
            " [11.  7.  8.]]\n"
          ]
        }
      ]
    },
    {
      "cell_type": "code",
      "source": [
        "print(Y)"
      ],
      "metadata": {
        "colab": {
          "base_uri": "https://localhost:8080/"
        },
        "id": "jsDfEsH8Zb4E",
        "outputId": "eea74081-df49-426d-aae3-5c5597140cb5"
      },
      "execution_count": 41,
      "outputs": [
        {
          "output_type": "stream",
          "name": "stdout",
          "text": [
            "[50000 45000 60000 65000 70000 62000 72000 80000]\n"
          ]
        }
      ]
    },
    {
      "cell_type": "markdown",
      "source": [
        "## Splitting into train and test data sets\n"
      ],
      "metadata": {
        "id": "GemnjRCkcckH"
      }
    },
    {
      "cell_type": "code",
      "source": [
        "from sklearn.model_selection import train_test_split as tts\n",
        "x_train,x_test,y_train,y_test= tts(X,Y,test_size=0.2,random_state=0)"
      ],
      "metadata": {
        "id": "rD1ulRhIchEE"
      },
      "execution_count": 42,
      "outputs": []
    },
    {
      "cell_type": "code",
      "source": [
        "print(x_train)"
      ],
      "metadata": {
        "colab": {
          "base_uri": "https://localhost:8080/"
        },
        "id": "QF6ga3yoeyNf",
        "outputId": "d7f58095-7d59-4208-be7a-8ed721b6ab4b"
      },
      "execution_count": 43,
      "outputs": [
        {
          "output_type": "stream",
          "name": "stdout",
          "text": [
            "[[11.  8.  6.]\n",
            " [11.  7.  8.]\n",
            " [ 2. 10. 10.]\n",
            " [11.  8.  9.]\n",
            " [ 3.  7. 10.]\n",
            " [ 7.  9.  6.]]\n"
          ]
        }
      ]
    },
    {
      "cell_type": "code",
      "source": [
        "print(x_test)"
      ],
      "metadata": {
        "colab": {
          "base_uri": "https://localhost:8080/"
        },
        "id": "vBPtpIg-eyF6",
        "outputId": "8d712580-c82b-44b6-8fbe-b6152b39aa6e"
      },
      "execution_count": 44,
      "outputs": [
        {
          "output_type": "stream",
          "name": "stdout",
          "text": [
            "[[10.  7.  7.]\n",
            " [ 5.  6.  7.]]\n"
          ]
        }
      ]
    },
    {
      "cell_type": "code",
      "source": [
        "print(y_train)"
      ],
      "metadata": {
        "colab": {
          "base_uri": "https://localhost:8080/"
        },
        "id": "k3jy3ppCeyCU",
        "outputId": "1672e347-1ee2-4855-fe41-1d42720e6ba5"
      },
      "execution_count": 45,
      "outputs": [
        {
          "output_type": "stream",
          "name": "stdout",
          "text": [
            "[45000 80000 65000 50000 62000 70000]\n"
          ]
        }
      ]
    },
    {
      "cell_type": "code",
      "source": [
        "print(y_test)"
      ],
      "metadata": {
        "colab": {
          "base_uri": "https://localhost:8080/"
        },
        "id": "0kdWR6Vkex81",
        "outputId": "421eeacc-0acd-4e36-8f9f-67ccca660e69"
      },
      "execution_count": 46,
      "outputs": [
        {
          "output_type": "stream",
          "name": "stdout",
          "text": [
            "[72000 60000]\n"
          ]
        }
      ]
    },
    {
      "cell_type": "markdown",
      "source": [
        "##Applying multiple linear regression on training set"
      ],
      "metadata": {
        "id": "t4Yn-MYhfWuU"
      }
    },
    {
      "cell_type": "code",
      "source": [
        "from sklearn.linear_model import LinearRegression as LR\n",
        "lr= LR().fit(x_train,y_train)"
      ],
      "metadata": {
        "id": "kirdEKgWfakl"
      },
      "execution_count": 47,
      "outputs": []
    },
    {
      "cell_type": "markdown",
      "source": [
        "## Prediction on Test set"
      ],
      "metadata": {
        "id": "kBqImzC6gV-E"
      }
    },
    {
      "cell_type": "code",
      "source": [
        "y_pred= lr.predict(x_test)\n",
        "np.set_printoptions(precision=2)\n",
        "print(np.concatenate((y_pred.reshape(len(y_pred),1),(y_test.reshape(len(y_test),1))),1))"
      ],
      "metadata": {
        "colab": {
          "base_uri": "https://localhost:8080/"
        },
        "id": "UNO87c0FgJgH",
        "outputId": "a18e9cab-c89c-4084-93cb-15ede9760f02"
      },
      "execution_count": 48,
      "outputs": [
        {
          "output_type": "stream",
          "name": "stdout",
          "text": [
            "[[62935.67 72000.  ]\n",
            " [71441.86 60000.  ]]\n"
          ]
        }
      ]
    },
    {
      "cell_type": "markdown",
      "source": [
        "Evaluation of Model Performance"
      ],
      "metadata": {
        "id": "ueJjGf_ehZPd"
      }
    },
    {
      "cell_type": "code",
      "source": [
        "from sklearn.metrics import r2_score\n",
        "r2_score(y_test,y_pred)"
      ],
      "metadata": {
        "colab": {
          "base_uri": "https://localhost:8080/"
        },
        "id": "b7BtMf4RhY6t",
        "outputId": "c9cf97f7-e8d2-4219-e1ba-7cc0db9679f5"
      },
      "execution_count": 49,
      "outputs": [
        {
          "output_type": "execute_result",
          "data": {
            "text/plain": [
              "-1.9594211269965038"
            ]
          },
          "metadata": {},
          "execution_count": 49
        }
      ]
    },
    {
      "cell_type": "markdown",
      "source": [
        "## Looking through coefficient and intercept"
      ],
      "metadata": {
        "id": "iuX5R7ECiC-q"
      }
    },
    {
      "cell_type": "code",
      "source": [
        "print(lr.predict([[2,9,6]]))\n",
        "print(lr.predict([[12,10,10]]))"
      ],
      "metadata": {
        "colab": {
          "base_uri": "https://localhost:8080/"
        },
        "id": "ltj4Od76hlZQ",
        "outputId": "6e984a8a-b65a-4313-82ce-4021432e1020"
      },
      "execution_count": 51,
      "outputs": [
        {
          "output_type": "stream",
          "name": "stdout",
          "text": [
            "[68599.48]\n",
            "[50345.33]\n"
          ]
        }
      ]
    },
    {
      "cell_type": "code",
      "source": [
        "print(lr.coef_)\n",
        "print(lr.intercept_)"
      ],
      "metadata": {
        "colab": {
          "base_uri": "https://localhost:8080/"
        },
        "id": "WySnCXsXh4Mk",
        "outputId": "e07f4293-dd71-476d-bd67-d5b1a42c033e"
      },
      "execution_count": 53,
      "outputs": [
        {
          "output_type": "stream",
          "name": "stdout",
          "text": [
            "[-1208.31 -2464.64  -926.6 ]\n",
            "98757.45242940274\n"
          ]
        }
      ]
    }
  ]
}